{
 "cells": [
  {
   "cell_type": "markdown",
   "metadata": {},
   "source": [
    "## Oferecendo desconto para cliente com base na última compra\n",
    "\n",
    "Suponha que você está trabalhando para uma empresa que deseja rastrear a atividade do cliente. Uma métrica que eles estão interessados é o tempo que passou desde a última transação do cliente. Se for muito tempo, eles podem oferecer um desconto para o cliente. Crie um script Python que mostra quanto tempo se passou desde a última compra do cliente. Se faz mais de 30 dias, mostre uma mensagem oferecendo um desconto para o cliente."
   ]
  },
  {
   "cell_type": "code",
   "execution_count": 6,
   "metadata": {},
   "outputs": [
    {
     "name": "stdout",
     "output_type": "stream",
     "text": [
      "Lero Lero Desconto\n"
     ]
    }
   ],
   "source": [
    "from datetime import datetime\n",
    "\n",
    "if __name__ == \"__main__\":\n",
    "    last_transaction = datetime(2024, 3, 9)\n",
    "    date_now = datetime.now()\n",
    "\n",
    "    if dif := (date_now - last_transaction).days > 30:\n",
    "        print(\"Lero Lero Desconto\")"
   ]
  },
  {
   "cell_type": "markdown",
   "metadata": {},
   "source": [
    "## Data e hora em diferentes fusos horários\n",
    "\n",
    "Uma empresa tem escritórios em São Paulo, Nova York e Tóquio. Crie um script Python que mostra a data e hora atuais nesses três fusos horários. Exiba, também, se estes escritórios estão abertos ou fechados (9h às 17h).\n"
   ]
  },
  {
   "cell_type": "code",
   "execution_count": 21,
   "metadata": {},
   "outputs": [
    {
     "name": "stdout",
     "output_type": "stream",
     "text": [
      "America/Sao_Paulo\n",
      "America/New_York\n",
      "Asia/Tokyo\n",
      "Escritorio de Sao Paulo Aberto\n"
     ]
    }
   ],
   "source": [
    "from datetime import datetime, timezone\n",
    "from zoneinfo import ZoneInfo\n",
    "\n",
    "def is_open(local_hour : datetime) -> str:\n",
    "    if 9 <= local_hour.hour < 17:\n",
    "        return \"Aberto\"\n",
    "    else:\n",
    "        return \"Fechado\"\n",
    "\n",
    "\n",
    "if __name__ == \"__main__\":\n",
    "    time_now = datetime.now()\n",
    "    fusos = [\"America/Sao_Paulo\", \"America/New_York\", \"Asia/Tokyo\"]\n",
    "    hours = {}\n",
    "    for fuso in fusos:\n",
    "        print(ZoneInfo(fuso))\n",
    "        hours[fuso] = time_now.astimezone(ZoneInfo(fuso))\n",
    "    \n",
    "    print(f\"Escritorio de Sao Paulo {is_open(hours['America/Sao_Paulo'])}\")\n",
    "    \n"
   ]
  }
 ],
 "metadata": {
  "kernelspec": {
   "display_name": "Python 3 (ipykernel)",
   "language": "python",
   "name": "python3"
  },
  "language_info": {
   "codemirror_mode": {
    "name": "ipython",
    "version": 3
   },
   "file_extension": ".py",
   "mimetype": "text/x-python",
   "name": "python",
   "nbconvert_exporter": "python",
   "pygments_lexer": "ipython3",
   "version": "3.10.6"
  }
 },
 "nbformat": 4,
 "nbformat_minor": 4
}
