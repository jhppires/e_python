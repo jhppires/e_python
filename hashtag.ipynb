{
 "cells": [
  {
   "cell_type": "markdown",
   "metadata": {},
   "source": [
    "# HashTag Course"
   ]
  },
  {
   "cell_type": "code",
   "execution_count": 3,
   "metadata": {},
   "outputs": [
    {
     "name": "stdout",
     "output_type": "stream",
     "text": [
      "1941801504112309299\n"
     ]
    }
   ],
   "source": [
    "user_response =  input(\"Enter a string: \")\n",
    "print(hash(user_response))"
   ]
  },
  {
   "cell_type": "markdown",
   "metadata": {},
   "source": [
    "Format is good when you have a lot variables with differents types."
   ]
  },
  {
   "cell_type": "code",
   "execution_count": 4,
   "metadata": {},
   "outputs": [
    {
     "name": "stdout",
     "output_type": "stream",
     "text": [
      "O faturamento da loja foi 1000. O custo da loja foi 500. O lucro da loja foi 500.\n"
     ]
    }
   ],
   "source": [
    "faturamento = 1000\n",
    "custo = 500\n",
    "lucro = faturamento - custo\n",
    "\n",
    "print(\"O faturamento da loja foi {}. O custo da loja foi {}. O lucro da loja foi {}.\".format(faturamento, custo, lucro))"
   ]
  },
  {
   "cell_type": "markdown",
   "metadata": {},
   "source": [
    "## Module 7: String\n",
    "\n",
    "Sheet Cheat: https://www.pythoncheatsheet.org/cheatsheet/manipulating-strings\n",
    "\n",
    "### String Methods\n",
    "- capitalize(): Converts the first character to upper case.\n",
    "- lower(): Converts a string into lower case.\n",
    "- upper(): Converts a string into upper case.\n",
    "- title(): Converts the first character of each word to upper case.\n",
    "- strip(): Returns a trimmed version of the string.\n",
    "- split(): Splits the string at the specified separator and returns a list of substrings.\n",
    "- replace(): Replaces a specified phrase with another specified phrase.\n",
    "- find(): Searches the string for a specified value and returns the position of where it was found.\n",
    "- format(): Formats specified values in a string.\n",
    "- join(): Joins the elements of an iterable to the end of the string.\n",
    "- count(): Returns the number of times a specified value occurs in a string.\n",
    "- startswith(): Returns True if the string starts with the specified value.\n",
    "- endswith(): Returns True if the string ends with the specified value.\n",
    "- isnumeric(): Returns True if all characters in the string are numeric.\n",
    "- isalpha(): Returns True if all characters in the string are in the alphabet.\n",
    "- isalnum(): Returns True if all characters in the string are alphanumeric (either alphabets or numbers).\n",
    "- isspace(): Returns True if all characters in the string are whitespaces.\n",
    "\n",
    "### Format Options String\n",
    "Width - Specify the width of the field:\n",
    "\n",
    "Precision - Specify the number of decimal places:\n",
    "\n",
    "Type - Specify the type of the data. For example, b for binary, e for exponent, f for float, etc.:\n",
    "\n",
    "Alignment - Specify the alignment of the text. < for left-align, > for right-align, ^ for center:\n",
    "\n",
    "Sign - Specify the sign for numeric types. + for both positive and negative numbers, - for negative numbers only (default), (space) for a leading space for positive numbers:\n",
    "\n",
    "Zero padding - Add zeros instead of spaces:\n",
    "\n",
    "Thousands separator - Add a comma as a thousands separator:"
   ]
  },
  {
   "cell_type": "markdown",
   "metadata": {},
   "source": []
  },
  {
   "cell_type": "code",
   "execution_count": 22,
   "metadata": {},
   "outputs": [
    {
     "name": "stdout",
     "output_type": "stream",
     "text": [
      "2.34\n",
      "1,000,000\n",
      "b'Python, is cool'\n",
      "Python, is cool\n",
      "('Python', ',', ' is cool')\n",
      "00000Python, is cool\n"
     ]
    }
   ],
   "source": [
    "import pandas as pd\n",
    "# just need to remember metods for string,\n",
    "\n",
    "values = {'name': 'John', 'age': 30}\n",
    "\n",
    "string_test = 2.341123\n",
    "print(f\"{string_test:.2f}\")\n",
    "number_test =  1000000\n",
    "print(f\"{number_test:,}\")\n",
    "\n",
    "string_test = \"Python, is cool\"\n",
    "print(string_test.encode())\n",
    "print(string_test.format_map(\",\"))\n",
    "print(string_test.rpartition(\",\")) #partition and split are similar, but partition returns a tuple with the string split in 3 parts\n",
    "print(string_test.zfill(20))"
   ]
  },
  {
   "cell_type": "code",
   "execution_count": 23,
   "metadata": {},
   "outputs": [
    {
     "name": "stdout",
     "output_type": "stream",
     "text": [
      "{'january': 100, 'february': 200, 'march': 300}\n"
     ]
    }
   ],
   "source": [
    "prices =  \"january: 100, february: 200, march: 300\"\n",
    "\n",
    "pairs = prices.split(\", \")\n",
    "\n",
    "# Create a dictionary from the pairs\n",
    "prices_dict = {}\n",
    "for pair in pairs:\n",
    "    key, value = pair.split(\": \")\n",
    "    prices_dict[key] = int(value)\n",
    "\n",
    "print(prices_dict)"
   ]
  },
  {
   "cell_type": "code",
   "execution_count": 1,
   "metadata": {},
   "outputs": [
    {
     "name": "stdout",
     "output_type": "stream",
     "text": [
      "0\n",
      "1\n",
      "2\n",
      "4\n"
     ]
    }
   ],
   "source": [
    "for i in range(10):\n",
    "    if i == 5:\n",
    "        break\n",
    "    elif i == 3:\n",
    "        continue\n",
    "    print(i)\n"
   ]
  },
  {
   "cell_type": "markdown",
   "metadata": {},
   "source": [
    "# 8 - Listas Python - Métodos e Usos"
   ]
  },
  {
   "cell_type": "code",
   "execution_count": 2,
   "metadata": {},
   "outputs": [],
   "source": [
    "produtos = [\n",
    "    \"arroz\",\n",
    "    \"feijão\",\n",
    "    \"macarrão\",\n",
    "    \"carne\",\n",
    "    \"frango\",\n",
    "    \"peixe\",\n",
    "    \"ovos\",\n",
    "    \"leite\",\n",
    "    \"queijo\",\n",
    "    \"presunto\",\n",
    "    \"mortadela\",\n",
    "    \"salame\",\n",
    "    \"pão\",\n",
    "    \"manteiga\",\n",
    "    \"margarina\",\n",
    "    \"açúcar\",\n",
    "    \"café\",\n",
    "    \"chá\",\n",
    "    \"chocolate\",\n",
    "    \"refrigerante\",\n",
    "    \"cerveja\",\n",
    "    \"vinho\",\n",
    "    \"whisky\",\n",
    "    \"vodka\",\n",
    "    \"cachaça\",\n",
    "    \"rum\",\n",
    "    \"tequila\",\n",
    "    \"licor\",\n",
    "    \"conhaque\",\n",
    "    \"água\",\n",
    "    \"suco\",\n",
    "    \"refresco\",\n",
    "    \"energético\",\n",
    "    \"iogurte\",\n",
    "    \"sorvete\",\n",
    "    \"sorvete\",\n",
    "    \"pipoca\",\n",
    "    \"salgadinho\",\n",
    "    \"biscoito\",\n",
    "    \"bolacha\",\n",
    "    \"pão de queijo\",\n",
    "    \"tapioca\",\n",
    "    \"crepioca\",\n",
    "    \"pão de mel\",\n",
    "    \"pão de ló\",\n",
    "]\n",
    "\n"
   ]
  },
  {
   "cell_type": "markdown",
   "metadata": {},
   "source": [
    "List is a mutable and ordered collection of items. Lists are defined by having values between square brackets [ ].\n",
    "\n",
    "String is a immutable and ordered collection of items. Strings are defined by having values between quotes ' ' or \" \". But can use replace for change the value, create a new string with the change."
   ]
  },
  {
   "cell_type": "code",
   "execution_count": 3,
   "metadata": {},
   "outputs": [
    {
     "name": "stdout",
     "output_type": "stream",
     "text": [
      "The product tapioca is in the list at index 41\n"
     ]
    }
   ],
   "source": [
    "product = input(\"Enter a product: \")\n",
    "if index :=  produtos.index(product):\n",
    "    print(f\"The product {product} is in the list at index {index}\")\n",
    "else:\n",
    "    print(f\"The product {product} is not in the list\")\n"
   ]
  },
  {
   "cell_type": "code",
   "execution_count": 5,
   "metadata": {},
   "outputs": [
    {
     "name": "stdout",
     "output_type": "stream",
     "text": [
      "['arroz', 'feijão', 'macarrão', 'carne', 'frango', 'peixe', 'ovos', 'leite', 'queijo', 'presunto', 'mortadela', 'salame', 'manteiga', 'margarina', 'açúcar', 'café', 'chá', 'chocolate', 'refrigerante', 'cerveja', 'vinho', 'whisky', 'vodka', 'cachaça', 'rum', 'tequila', 'licor', 'conhaque', 'água', 'suco', 'refresco', 'energético', 'iogurte', 'sorvete', 'sorvete', 'pipoca', 'salgadinho', 'biscoito', 'bolacha', 'pão de queijo', 'tapioca', 'crepioca', 'pão de mel', 'pão de ló']\n",
      "list.remove(x): x not in list\n"
     ]
    }
   ],
   "source": [
    "# pop is a method that removes the last element of a list with index and remove is a method that removes a element by value\n",
    "produtos.remove(\"pão\") if \"pão\" in produtos else None\n",
    "print(produtos)\n",
    "\n",
    "try:\n",
    "    produtos.remove(\"pão\")\n",
    "except ValueError:\n",
    "    pass"
   ]
  },
  {
   "cell_type": "code",
   "execution_count": 7,
   "metadata": {},
   "outputs": [
    {
     "data": {
      "text/plain": [
       "['geladeira',\n",
       " 'iphone',\n",
       " 'casa',\n",
       " 'carro',\n",
       " 'moto',\n",
       " 'bicicleta',\n",
       " 'moto',\n",
       " 'carro',\n",
       " 'casa',\n",
       " 'iphone',\n",
       " 'geladeira']"
      ]
     },
     "execution_count": 7,
     "metadata": {},
     "output_type": "execute_result"
    }
   ],
   "source": [
    "produtos_2 = [\"Geladeira\", \"iphone\", \"CASA\", \"CARRO\", \"MOTO\", \"BICICLETA\", \"MOTO\", \"CARRO\", \"CASA\", \"iphone\", \"Geladeira\"]\n",
    "produtos_2 = [produto.lower() for produto in produtos_2]\n",
    "produtos_2"
   ]
  },
  {
   "cell_type": "code",
   "execution_count": 12,
   "metadata": {},
   "outputs": [
    {
     "name": "stdout",
     "output_type": "stream",
     "text": [
      "{' ', 'n', 'r', 'i', 's', 'b', 'h', 'a', 'f', 't'}\n"
     ]
    }
   ],
   "source": [
    "unique_string =  \"batatinhas fritas\"\n",
    "print(set(unique_string))"
   ]
  },
  {
   "cell_type": "markdown",
   "metadata": {},
   "source": [
    "In python, list isent a imuatable object, so you can change the value of the list. But in when you do list1 = list2, you are creating a reference to the list2, so when you change the list1, the list2 will change too because they are in same memory space."
   ]
  },
  {
   "cell_type": "markdown",
   "metadata": {},
   "source": []
  }
 ],
 "metadata": {
  "kernelspec": {
   "display_name": "Python 3",
   "language": "python",
   "name": "python3"
  },
  "language_info": {
   "codemirror_mode": {
    "name": "ipython",
    "version": 3
   },
   "file_extension": ".py",
   "mimetype": "text/x-python",
   "name": "python",
   "nbconvert_exporter": "python",
   "pygments_lexer": "ipython3",
   "version": "3.10.6"
  }
 },
 "nbformat": 4,
 "nbformat_minor": 2
}
