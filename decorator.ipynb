{
 "cells": [
  {
   "cell_type": "markdown",
   "metadata": {},
   "source": [
    "# First Class Function in Python\n",
    "[Reference](https://realpython.com/primer-on-python-decorators)\n",
    "## What is a first class function?\n",
    "A programming language is said to have first-class functions if it treats functions as first-class citizens. In Python, functions are first-class objects. First-class functions are a powerful programming concept that allows functions to be passed as arguments to other functions, returned as values from other functions, and assigned to variables."
   ]
  },
  {
   "cell_type": "markdown",
   "metadata": {},
   "source": []
  },
  {
   "cell_type": "markdown",
   "metadata": {},
   "source": []
  },
  {
   "cell_type": "code",
   "execution_count": 6,
   "metadata": {},
   "outputs": [],
   "source": [
    "def yell(text):\n",
    "    return text.upper() + '!'"
   ]
  },
  {
   "cell_type": "code",
   "execution_count": 7,
   "metadata": {},
   "outputs": [
    {
     "data": {
      "text/plain": [
       "[<function __main__.yell(text)>,\n",
       " <method 'lower' of 'str' objects>,\n",
       " <method 'capitalize' of 'str' objects>]"
      ]
     },
     "execution_count": 7,
     "metadata": {},
     "output_type": "execute_result"
    }
   ],
   "source": [
    "bark = yell\n",
    "funcs = [bark, str.lower, str.capitalize]\n",
    "funcs"
   ]
  },
  {
   "cell_type": "code",
   "execution_count": 8,
   "metadata": {},
   "outputs": [
    {
     "name": "stdout",
     "output_type": "stream",
     "text": [
      "<function yell at 0x7ff8c422dcf0> HEY THERE!\n",
      "<method 'lower' of 'str' objects> hey there\n",
      "<method 'capitalize' of 'str' objects> Hey there\n"
     ]
    }
   ],
   "source": [
    "for f in funcs:\n",
    "    print(f, f('hey there'))"
   ]
  },
  {
   "cell_type": "code",
   "execution_count": 9,
   "metadata": {},
   "outputs": [],
   "source": [
    "def greet(func):\n",
    "    greeting = func('Hi, I am a Python program')\n",
    "    print(greeting)"
   ]
  },
  {
   "cell_type": "code",
   "execution_count": 10,
   "metadata": {},
   "outputs": [
    {
     "name": "stdout",
     "output_type": "stream",
     "text": [
      "HI, I AM A PYTHON PROGRAM!\n"
     ]
    }
   ],
   "source": [
    "greet(bark)"
   ]
  },
  {
   "cell_type": "code",
   "execution_count": 11,
   "metadata": {},
   "outputs": [
    {
     "data": {
      "text/plain": [
       "['HELLO!', 'HEY!', 'HI!']"
      ]
     },
     "execution_count": 11,
     "metadata": {},
     "output_type": "execute_result"
    }
   ],
   "source": [
    "list(map(yell, ['hello', 'hey', 'hi']))"
   ]
  },
  {
   "cell_type": "code",
   "execution_count": 12,
   "metadata": {},
   "outputs": [
    {
     "data": {
      "text/plain": [
       "'HELLO!'"
      ]
     },
     "execution_count": 12,
     "metadata": {},
     "output_type": "execute_result"
    }
   ],
   "source": [
    "def get_speak_func(volume):\n",
    "    def whisper(text):\n",
    "        return text.lower() + '...'\n",
    "    def yell(text):\n",
    "        return text.upper() + '!'\n",
    "    if volume > 0.5:\n",
    "        return yell\n",
    "    else:\n",
    "        return whisper\n",
    "    \n",
    "get_speak_func(0.6)('hello')"
   ]
  },
  {
   "cell_type": "markdown",
   "metadata": {},
   "source": [
    "This is a lexical closure problem. We need to implement a function that will take a string and volume of the speaker and return a new string with the volume of the speaker. The volume of the speaker is the number of times the string is repeated."
   ]
  },
  {
   "cell_type": "code",
   "execution_count": 13,
   "metadata": {},
   "outputs": [
    {
     "data": {
      "text/plain": [
       "['HELLO, WORLD!',\n",
       " 'HELLO, WORLD!',\n",
       " 'HELLO, WORLD!',\n",
       " 'HELLO, WORLD!',\n",
       " 'HELLO, WORLD!',\n",
       " 'HELLO, WORLD!',\n",
       " 'HELLO, WORLD!']"
      ]
     },
     "execution_count": 13,
     "metadata": {},
     "output_type": "execute_result"
    }
   ],
   "source": [
    "def get_speak_func(text, volume):\n",
    "    def whisper():\n",
    "        return [text.lower() + '...' for i in range(int(volume*10))]\n",
    "    def yell():\n",
    "        return [text.upper() + '!' for i in range(int(volume*10))]\n",
    "    if volume > 0.5:\n",
    "        return yell\n",
    "    else:\n",
    "        return whisper\n",
    "    \n",
    "get_speak_func('Hello, World', 0.7)()"
   ]
  },
  {
   "cell_type": "code",
   "execution_count": 14,
   "metadata": {},
   "outputs": [
    {
     "data": {
      "text/plain": [
       "(7, 9)"
      ]
     },
     "execution_count": 14,
     "metadata": {},
     "output_type": "execute_result"
    }
   ],
   "source": [
    "def make_adder(n):\n",
    "    def add(x):\n",
    "        return x + n\n",
    "    return add\n",
    "\n",
    "plus_3 = make_adder(3)\n",
    "plus_5 = make_adder(5)\n",
    "\n",
    "plus_3(4), plus_5(4) "
   ]
  },
  {
   "cell_type": "markdown",
   "metadata": {},
   "source": [
    "Here is a simplified example of how a first-class function in Python can capture local state"
   ]
  },
  {
   "cell_type": "code",
   "execution_count": 15,
   "metadata": {},
   "outputs": [
    {
     "name": "stdout",
     "output_type": "stream",
     "text": [
      "20\n"
     ]
    }
   ],
   "source": [
    "n = 10\n",
    "def add(x):\n",
    "    return x + n\n",
    "\n",
    "print(add(10))"
   ]
  },
  {
   "cell_type": "markdown",
   "metadata": {},
   "source": [
    "Objects Can Behave Like Functions \n",
    "Behind the scenes, \"calling\" an object instance invokes the `__call__` method on the object's class. This is a special method that can be defined in a class to allow the class's instances.\n",
    "\n",
    "But not all objects can be called,, you can check with the `callable()` function."
   ]
  },
  {
   "cell_type": "code",
   "execution_count": 16,
   "metadata": {},
   "outputs": [
    {
     "name": "stdout",
     "output_type": "stream",
     "text": [
      "<__main__.Adder object at 0x7ff8b47d4250>\n"
     ]
    },
    {
     "data": {
      "text/plain": [
       "7"
      ]
     },
     "execution_count": 16,
     "metadata": {},
     "output_type": "execute_result"
    }
   ],
   "source": [
    "class Adder:\n",
    "    def __init__(self, n):\n",
    "        self.n = n\n",
    "\n",
    "    def __call__(self, x):\n",
    "        return self.n + x\n",
    "    \n",
    "plus_3 = Adder(3)\n",
    "print(plus_3)\n",
    "\n",
    "plus_3(4)"
   ]
  },
  {
   "cell_type": "code",
   "execution_count": 17,
   "metadata": {},
   "outputs": [],
   "source": [
    "class Adder_not_callable:\n",
    "    def __init__(self, n):\n",
    "        self.n = n\n",
    "add = Adder_not_callable(3)"
   ]
  },
  {
   "cell_type": "code",
   "execution_count": 18,
   "metadata": {},
   "outputs": [
    {
     "name": "stdout",
     "output_type": "stream",
     "text": [
      "Callable True\n",
      "Callable False\n"
     ]
    }
   ],
   "source": [
    "print(f\"Callable {callable(plus_3)}\")\n",
    "print(f\"Callable {callable(add)}\")"
   ]
  },
  {
   "cell_type": "markdown",
   "metadata": {},
   "source": [
    "Key Takeaways\n",
    "Everything in Python is an object, including functions. You can assign them to variables, store them in data structures, and pass or return them to and from other functions (first-class functions.)\n",
    "\n",
    "First-class functions allow you to abstract away and pass around behavior in your programs.\n",
    "\n",
    "Functions can be nested and they can capture and carry some of the parent function’s state with them. Functions that do this are called closures.\n",
    "Objects can be made callable which allows you to treat them like functions in many cases."
   ]
  },
  {
   "cell_type": "markdown",
   "metadata": {},
   "source": [
    "# Decorator\n",
    "\n",
    "A decorator is a design pattern in Python that allows a user to add new functionality to an object without modifying its structure. Decorators are usually called before the definition of a function you want to decorate.\n",
    "\n",
    "## Concepts\n",
    "- Higher Order Function: A function that takes a function as an argument or returns a function."
   ]
  },
  {
   "cell_type": "code",
   "execution_count": 19,
   "metadata": {},
   "outputs": [
    {
     "name": "stdout",
     "output_type": "stream",
     "text": [
      "Something is happening before the function is called.\n",
      "Whee!\n",
      "Something is happening after the function is called.\n"
     ]
    }
   ],
   "source": [
    "def decorator(func: object) -> object:\n",
    "    def wrapper() -> None:\n",
    "        print(\"Something is happening before the function is called.\")\n",
    "        func()\n",
    "        print(\"Something is happening after the function is called.\")\n",
    "    return wrapper\n",
    "\n",
    "def say_whee():\n",
    "    print(\"Whee!\")\n",
    "\n",
    "say_whee = decorator(say_whee)\n",
    "say_whee()"
   ]
  },
  {
   "cell_type": "code",
   "execution_count": 20,
   "metadata": {},
   "outputs": [
    {
     "name": "stdout",
     "output_type": "stream",
     "text": [
      "Something is happening before the function is called.\n",
      "Whee!\n",
      "Whee!\n",
      "Something is happening after the function is called.\n"
     ]
    }
   ],
   "source": [
    "def decorator(func):\n",
    "    def wrapper():\n",
    "        print(\"Something is happening before the function is called.\")\n",
    "        func()\n",
    "        print(\"Something is happening after the function is called.\")\n",
    "    return wrapper\n",
    "\n",
    "@decorator\n",
    "def say_whee():\n",
    "    print(\"Whee!\")\n",
    "    print(\"Whee!\")\n",
    "\n",
    "say_whee()\n"
   ]
  },
  {
   "cell_type": "code",
   "execution_count": 21,
   "metadata": {},
   "outputs": [
    {
     "name": "stdout",
     "output_type": "stream",
     "text": [
      "Creating greeting\n",
      "Creating greeting\n"
     ]
    },
    {
     "data": {
      "text/plain": [
       "['Hi Adam']"
      ]
     },
     "execution_count": 21,
     "metadata": {},
     "output_type": "execute_result"
    }
   ],
   "source": [
    "import functools\n",
    "\n",
    "def do_twice(func):\n",
    "    @functools.wraps(func)\n",
    "    def wrapper_do_twice(*args, **kwargs):\n",
    "        func(*args, **kwargs)\n",
    "        return func(*args, **kwargs)\n",
    "    return wrapper_do_twice\n",
    "\n",
    "@do_twice\n",
    "def say_whee():\n",
    "    print(\"Whee!\")\n",
    "\n",
    "@do_twice\n",
    "def greet(name):\n",
    "    print(f\"Hello {name}\")\n",
    "\n",
    "@do_twice\n",
    "def return_greeting(name):\n",
    "    print(\"Creating greeting\")\n",
    "    return f\"Hi {name}\"\n",
    "\n",
    "test_list =  []\n",
    "test_list.append(return_greeting(\"Adam\"))\n",
    "test_list"
   ]
  },
  {
   "cell_type": "code",
   "execution_count": 22,
   "metadata": {},
   "outputs": [
    {
     "name": "stdout",
     "output_type": "stream",
     "text": [
      "Help on function say_whee in module __main__:\n",
      "\n",
      "say_whee()\n",
      "\n"
     ]
    }
   ],
   "source": [
    "help(say_whee)"
   ]
  },
  {
   "cell_type": "markdown",
   "metadata": {},
   "source": [
    "# Real World Example"
   ]
  },
  {
   "cell_type": "markdown",
   "metadata": {},
   "source": [
    "Good boilerplate for decorators:\n",
    "```python\n",
    "import functools\n",
    "\n",
    "def decorator(func):\n",
    "    @functools.wraps(func)\n",
    "    def wrapper_decorator(*args, **kwargs):\n",
    "        # Do something before\n",
    "        value = func(*args, **kwargs)\n",
    "        # Do something after\n",
    "        return value\n",
    "    return wrapper_decorator"
   ]
  },
  {
   "cell_type": "code",
   "execution_count": 23,
   "metadata": {},
   "outputs": [
    {
     "name": "stdout",
     "output_type": "stream",
     "text": [
      "Finished waste_some_time in 0.0159 secs\n"
     ]
    },
    {
     "name": "stdout",
     "output_type": "stream",
     "text": [
      "Finished waste_some_time in 5.3070 secs\n"
     ]
    }
   ],
   "source": [
    "import functools\n",
    "import time\n",
    "\n",
    "class Logger:\n",
    "    _instance = None\n",
    "    _func = None\n",
    "\n",
    "    def __new__(cls, *args, **kwargs):\n",
    "        if cls._instance is None:\n",
    "            cls._instance = super().__new__(cls)\n",
    "        return cls._instance\n",
    "\n",
    "def timer(func):\n",
    "    @functools.wraps(func)\n",
    "    def wrapper_timer(*args, **kwargs):\n",
    "        start_time = time.perf_counter()\n",
    "        value = func(*args, **kwargs)\n",
    "        end_time = time.perf_counter()\n",
    "        run_time = end_time - start_time\n",
    "        print(f\"Finished {func.__name__} in {run_time:.4f} secs\")\n",
    "        return value\n",
    "    return wrapper_timer\n",
    "\n",
    "@timer\n",
    "def waste_some_time(num_times):\n",
    "    for _ in range(num_times):\n",
    "        sum([i**2 for i in range(10000)])\n",
    "\n",
    "if \"__main__\" == __name__:\n",
    "    waste_some_time(1)\n",
    "    waste_some_time(999)"
   ]
  },
  {
   "cell_type": "code",
   "execution_count": 24,
   "metadata": {},
   "outputs": [
    {
     "name": "stdout",
     "output_type": "stream",
     "text": [
      "Calling make_greeting('Benjamin')\n",
      "make_greeting() returned 'Howdy Benjamin!'\n",
      "Calling make_greeting('Richard', age=112)\n",
      "make_greeting() returned 'Whoa Richard! 112 already, you are growing up!'\n"
     ]
    }
   ],
   "source": [
    "import functools\n",
    "\n",
    "def debug(func):\n",
    "    \"\"\"Print the function signature and return value\"\"\"\n",
    "    @functools.wraps(func)\n",
    "    def wrapper_debug(*args, **kwargs):\n",
    "        args_repr = [repr(a) for a in args]\n",
    "        kwargs_repr = [f\"{k}={repr(v)}\" for k, v in kwargs.items()]\n",
    "        signature = \", \".join(args_repr + kwargs_repr)\n",
    "        print(f\"Calling {func.__name__}({signature})\")\n",
    "        value = func(*args, **kwargs)\n",
    "        print(f\"{func.__name__}() returned {repr(value)}\")\n",
    "        return value\n",
    "    return wrapper_debug\n",
    "\n",
    "\n",
    "@debug\n",
    "def make_greeting(name, age=None):\n",
    "    if age is None:\n",
    "        return f\"Howdy {name}!\"\n",
    "    else:\n",
    "        return f\"Whoa {name}! {age} already, you are growing up!\"\n",
    "    \n",
    "if \"__main__\" == __name__:\n",
    "    make_greeting(\"Benjamin\")\n",
    "    make_greeting(\"Richard\", age=112)"
   ]
  },
  {
   "cell_type": "code",
   "execution_count": 25,
   "metadata": {},
   "outputs": [
    {
     "name": "stdout",
     "output_type": "stream",
     "text": [
      "Calling factorial(0)\n",
      "factorial() returned 1\n",
      "Calling factorial(1)\n",
      "factorial() returned 1\n",
      "Calling factorial(2)\n",
      "factorial() returned 2\n",
      "Calling factorial(3)\n",
      "factorial() returned 6\n",
      "Calling factorial(4)\n",
      "factorial() returned 24\n"
     ]
    }
   ],
   "source": [
    "import math\n",
    "\n",
    "math.factorial = debug(math.factorial) #manually decorate the math.factorial function\n",
    "\n",
    "def approximate_e(terms=18):\n",
    "    return sum((1 / math.factorial(n)) for n in range(terms))\n",
    "\n",
    "if \"__main__\" == __name__:\n",
    "    approximate_e(5)"
   ]
  },
  {
   "cell_type": "code",
   "execution_count": 26,
   "metadata": {},
   "outputs": [
    {
     "name": "stdout",
     "output_type": "stream",
     "text": [
      "3\n",
      "2\n",
      "1\n",
      "Liftoff!\n"
     ]
    }
   ],
   "source": [
    "import functools\n",
    "import time\n",
    "\n",
    "def slow_down(func):\n",
    "    \"\"\"Sleep 1 second before calling the function\"\"\"\n",
    "    @functools.wraps(func)\n",
    "    def wrapper_slow_down(*args, **kwargs):\n",
    "        time.sleep(1)\n",
    "        return func(*args, **kwargs)\n",
    "    return wrapper_slow_down\n",
    "\n",
    "@slow_down\n",
    "def countdown(from_number):\n",
    "    if from_number < 1:\n",
    "        print(\"Liftoff!\")\n",
    "    else:\n",
    "        print(from_number)\n",
    "        countdown(from_number - 1)\n",
    "\n",
    "if \"__main__\" == __name__:\n",
    "    countdown(3)"
   ]
  },
  {
   "cell_type": "code",
   "execution_count": 27,
   "metadata": {},
   "outputs": [
    {
     "name": "stdout",
     "output_type": "stream",
     "text": [
      "Using 'be_awesome'\n"
     ]
    }
   ],
   "source": [
    "PLUGINS = dict()\n",
    "\n",
    "def register(func):\n",
    "    \"\"\"Register a function as a plug-in\"\"\"\n",
    "    PLUGINS[func.__name__] = func\n",
    "    return func\n",
    "\n",
    "@register\n",
    "def say_hello(name):\n",
    "    return f\"Hello {name}\"\n",
    "\n",
    "\n",
    "@register\n",
    "def be_awesome(name):\n",
    "    return f\"Yo {name}, together we're the awesomest!\"\n",
    "\n",
    "import random  \n",
    "\n",
    "def randomly_greet(name):\n",
    "    greeter, greeter_func = random.choice(list(PLUGINS.items()))\n",
    "    print(f\"Using {greeter!r}\") #same as repr(greeter)\n",
    "    return greeter_func(name)\n",
    "\n",
    "if \"__main__\" == __name__:\n",
    "    randomly_greet(\"Alice\")"
   ]
  },
  {
   "cell_type": "code",
   "execution_count": 28,
   "metadata": {},
   "outputs": [
    {
     "data": {
      "text/plain": [
       "{'__name__': '__main__',\n",
       " '__doc__': 'Automatically created module for IPython interactive environment',\n",
       " '__package__': None,\n",
       " '__loader__': None,\n",
       " '__spec__': None,\n",
       " '__builtin__': <module 'builtins' (built-in)>,\n",
       " '__builtins__': <module 'builtins' (built-in)>,\n",
       " '_ih': ['',\n",
       "  'PLUGINS = dict()\\n\\ndef register(func):\\n    \"\"\"Register a function as a plug-in\"\"\"\\n    PLUGINS[func.__name__] = func\\n    return func\\n\\n@register\\ndef say_hello(name):\\n    return f\"Hello {name}\"\\n\\n\\n@register\\ndef be_awesome(name):\\n    return f\"Yo {name}, together we\\'re the awesomest!\"\\n\\nimport random  \\n\\ndef randomly_greet(name):\\n    greeter, greeter_func = random.choice(list(PLUGINS.items()))\\n    print(f\"Using {greeter!r}\") #same as repr(greeter)\\n    return greeter_func(name)\\n\\nif \"__main__\" == __name__:\\n    randomly_greet(\"Alice\")',\n",
       "  'PLUGINS = dict()\\n\\ndef register(func):\\n    \"\"\"Register a function as a plug-in\"\"\"\\n    PLUGINS[func.__name__] = func\\n    return func\\n\\n@register\\ndef say_hello(name):\\n    return f\"Hello {name}\"\\n\\n\\n@register\\ndef be_awesome(name):\\n    return f\"Yo {name}, together we\\'re the awesomest!\"\\n\\nimport random  \\n\\ndef randomly_greet(name):\\n    greeter, greeter_func = random.choice(list(PLUGINS.items()))\\n    print(f\"Using {greeter!r}\") #same as repr(greeter)\\n    return greeter_func(name)\\n\\nif \"__main__\" == __name__:\\n    randomly_greet(\"Alice\")',\n",
       "  'PLUGINS = dict()\\n\\ndef register(func):\\n    \"\"\"Register a function as a plug-in\"\"\"\\n    PLUGINS[func.__name__] = func\\n    return func\\n\\n@register\\ndef say_hello(name):\\n    return f\"Hello {name}\"\\n\\n\\n@register\\ndef be_awesome(name):\\n    return f\"Yo {name}, together we\\'re the awesomest!\"\\n\\nimport random  \\n\\ndef randomly_greet(name):\\n    greeter, greeter_func = random.choice(list(PLUGINS.items()))\\n    print(f\"Using {greeter!r}\") #same as repr(greeter)\\n    return greeter_func(name)\\n\\nif \"__main__\" == __name__:\\n    randomly_greet(\"Alice\")',\n",
       "  'globals()',\n",
       "  'class TimeWaster:\\n    @debug\\n    def __init__(self, max_num):\\n        self.max_num = max_num\\n\\n    @timer\\n    def waste_time(self, num_times):\\n        for _ in range(num_times):\\n            sum([number**2 for number in range(self.max_num)])\\n\\n\\ntw = TimeWaster(1000)\\ntw.waste_time(999)',\n",
       "  \"def yell(text):\\n    return text.upper() + '!'\",\n",
       "  'bark = yell\\nfuncs = [bark, str.lower, str.capitalize]\\nfuncs',\n",
       "  \"for f in funcs:\\n    print(f, f('hey there'))\",\n",
       "  \"def greet(func):\\n    greeting = func('Hi, I am a Python program')\\n    print(greeting)\",\n",
       "  'greet(bark)',\n",
       "  \"list(map(yell, ['hello', 'hey', 'hi']))\",\n",
       "  \"def get_speak_func(volume):\\n    def whisper(text):\\n        return text.lower() + '...'\\n    def yell(text):\\n        return text.upper() + '!'\\n    if volume > 0.5:\\n        return yell\\n    else:\\n        return whisper\\n    \\nget_speak_func(0.6)('hello')\",\n",
       "  \"def get_speak_func(text, volume):\\n    def whisper():\\n        return [text.lower() + '...' for i in range(int(volume*10))]\\n    def yell():\\n        return [text.upper() + '!' for i in range(int(volume*10))]\\n    if volume > 0.5:\\n        return yell\\n    else:\\n        return whisper\\n    \\nget_speak_func('Hello, World', 0.7)()\",\n",
       "  'def make_adder(n):\\n    def add(x):\\n        return x + n\\n    return add\\n\\nplus_3 = make_adder(3)\\nplus_5 = make_adder(5)\\n\\nplus_3(4), plus_5(4) ',\n",
       "  'n = 10\\ndef add(x):\\n    return x + n\\n\\nprint(add(10))',\n",
       "  'class Adder:\\n    def __init__(self, n):\\n        self.n = n\\n\\n    def __call__(self, x):\\n        return self.n + x\\n    \\nplus_3 = Adder(3)\\nprint(plus_3)\\n\\nplus_3(4)',\n",
       "  'class Adder_not_callable:\\n    def __init__(self, n):\\n        self.n = n\\nadd = Adder_not_callable(3)',\n",
       "  'print(f\"Callable {callable(plus_3)}\")\\nprint(f\"Callable {callable(add)}\")',\n",
       "  'def decorator(func: object) -> object:\\n    def wrapper() -> None:\\n        print(\"Something is happening before the function is called.\")\\n        func()\\n        print(\"Something is happening after the function is called.\")\\n    return wrapper\\n\\ndef say_whee():\\n    print(\"Whee!\")\\n\\nsay_whee = decorator(say_whee)\\nsay_whee()',\n",
       "  'def decorator(func):\\n    def wrapper():\\n        print(\"Something is happening before the function is called.\")\\n        func()\\n        print(\"Something is happening after the function is called.\")\\n    return wrapper\\n\\n@decorator\\ndef say_whee():\\n    print(\"Whee!\")\\n    print(\"Whee!\")\\n\\nsay_whee()',\n",
       "  'import functools\\n\\ndef do_twice(func):\\n    @functools.wraps(func)\\n    def wrapper_do_twice(*args, **kwargs):\\n        func(*args, **kwargs)\\n        return func(*args, **kwargs)\\n    return wrapper_do_twice\\n\\n@do_twice\\ndef say_whee():\\n    print(\"Whee!\")\\n\\n@do_twice\\ndef greet(name):\\n    print(f\"Hello {name}\")\\n\\n@do_twice\\ndef return_greeting(name):\\n    print(\"Creating greeting\")\\n    return f\"Hi {name}\"\\n\\ntest_list =  []\\ntest_list.append(return_greeting(\"Adam\"))\\ntest_list',\n",
       "  'help(say_whee)',\n",
       "  'import functools\\nimport time\\n\\nclass Logger:\\n    _instance = None\\n    _func = None\\n\\n    def __new__(cls, *args, **kwargs):\\n        if cls._instance is None:\\n            cls._instance = super().__new__(cls)\\n        return cls._instance\\n\\ndef timer(func):\\n    @functools.wraps(func)\\n    def wrapper_timer(*args, **kwargs):\\n        start_time = time.perf_counter()\\n        value = func(*args, **kwargs)\\n        end_time = time.perf_counter()\\n        run_time = end_time - start_time\\n        print(f\"Finished {func.__name__} in {run_time:.4f} secs\")\\n        return value\\n    return wrapper_timer\\n\\n@timer\\ndef waste_some_time(num_times):\\n    for _ in range(num_times):\\n        sum([i**2 for i in range(10000)])\\n\\nif \"__main__\" == __name__:\\n    waste_some_time(1)\\n    waste_some_time(999)',\n",
       "  'import functools\\n\\ndef debug(func):\\n    \"\"\"Print the function signature and return value\"\"\"\\n    @functools.wraps(func)\\n    def wrapper_debug(*args, **kwargs):\\n        args_repr = [repr(a) for a in args]\\n        kwargs_repr = [f\"{k}={repr(v)}\" for k, v in kwargs.items()]\\n        signature = \", \".join(args_repr + kwargs_repr)\\n        print(f\"Calling {func.__name__}({signature})\")\\n        value = func(*args, **kwargs)\\n        print(f\"{func.__name__}() returned {repr(value)}\")\\n        return value\\n    return wrapper_debug\\n\\n\\n@debug\\ndef make_greeting(name, age=None):\\n    if age is None:\\n        return f\"Howdy {name}!\"\\n    else:\\n        return f\"Whoa {name}! {age} already, you are growing up!\"\\n    \\nif \"__main__\" == __name__:\\n    make_greeting(\"Benjamin\")\\n    make_greeting(\"Richard\", age=112)',\n",
       "  'import math\\n\\nmath.factorial = debug(math.factorial) #manually decorate the math.factorial function\\n\\ndef approximate_e(terms=18):\\n    return sum((1 / math.factorial(n)) for n in range(terms))\\n\\nif \"__main__\" == __name__:\\n    approximate_e(5)',\n",
       "  'import functools\\nimport time\\n\\ndef slow_down(func):\\n    \"\"\"Sleep 1 second before calling the function\"\"\"\\n    @functools.wraps(func)\\n    def wrapper_slow_down(*args, **kwargs):\\n        time.sleep(1)\\n        return func(*args, **kwargs)\\n    return wrapper_slow_down\\n\\n@slow_down\\ndef countdown(from_number):\\n    if from_number < 1:\\n        print(\"Liftoff!\")\\n    else:\\n        print(from_number)\\n        countdown(from_number - 1)\\n\\nif \"__main__\" == __name__:\\n    countdown(3)',\n",
       "  'PLUGINS = dict()\\n\\ndef register(func):\\n    \"\"\"Register a function as a plug-in\"\"\"\\n    PLUGINS[func.__name__] = func\\n    return func\\n\\n@register\\ndef say_hello(name):\\n    return f\"Hello {name}\"\\n\\n\\n@register\\ndef be_awesome(name):\\n    return f\"Yo {name}, together we\\'re the awesomest!\"\\n\\nimport random  \\n\\ndef randomly_greet(name):\\n    greeter, greeter_func = random.choice(list(PLUGINS.items()))\\n    print(f\"Using {greeter!r}\") #same as repr(greeter)\\n    return greeter_func(name)\\n\\nif \"__main__\" == __name__:\\n    randomly_greet(\"Alice\")',\n",
       "  'globals()'],\n",
       " '_oh': {4: {...},\n",
       "  7: [<function __main__.yell(text)>,\n",
       "   <method 'lower' of 'str' objects>,\n",
       "   <method 'capitalize' of 'str' objects>],\n",
       "  11: ['HELLO!', 'HEY!', 'HI!'],\n",
       "  12: 'HELLO!',\n",
       "  13: ['HELLO, WORLD!',\n",
       "   'HELLO, WORLD!',\n",
       "   'HELLO, WORLD!',\n",
       "   'HELLO, WORLD!',\n",
       "   'HELLO, WORLD!',\n",
       "   'HELLO, WORLD!',\n",
       "   'HELLO, WORLD!'],\n",
       "  14: (7, 9),\n",
       "  16: 7,\n",
       "  21: ['Hi Adam']},\n",
       " '_dh': [PosixPath('/home/piresjohann/GitHub/e_python'),\n",
       "  PosixPath('/home/piresjohann/GitHub/e_python')],\n",
       " 'In': ['',\n",
       "  'PLUGINS = dict()\\n\\ndef register(func):\\n    \"\"\"Register a function as a plug-in\"\"\"\\n    PLUGINS[func.__name__] = func\\n    return func\\n\\n@register\\ndef say_hello(name):\\n    return f\"Hello {name}\"\\n\\n\\n@register\\ndef be_awesome(name):\\n    return f\"Yo {name}, together we\\'re the awesomest!\"\\n\\nimport random  \\n\\ndef randomly_greet(name):\\n    greeter, greeter_func = random.choice(list(PLUGINS.items()))\\n    print(f\"Using {greeter!r}\") #same as repr(greeter)\\n    return greeter_func(name)\\n\\nif \"__main__\" == __name__:\\n    randomly_greet(\"Alice\")',\n",
       "  'PLUGINS = dict()\\n\\ndef register(func):\\n    \"\"\"Register a function as a plug-in\"\"\"\\n    PLUGINS[func.__name__] = func\\n    return func\\n\\n@register\\ndef say_hello(name):\\n    return f\"Hello {name}\"\\n\\n\\n@register\\ndef be_awesome(name):\\n    return f\"Yo {name}, together we\\'re the awesomest!\"\\n\\nimport random  \\n\\ndef randomly_greet(name):\\n    greeter, greeter_func = random.choice(list(PLUGINS.items()))\\n    print(f\"Using {greeter!r}\") #same as repr(greeter)\\n    return greeter_func(name)\\n\\nif \"__main__\" == __name__:\\n    randomly_greet(\"Alice\")',\n",
       "  'PLUGINS = dict()\\n\\ndef register(func):\\n    \"\"\"Register a function as a plug-in\"\"\"\\n    PLUGINS[func.__name__] = func\\n    return func\\n\\n@register\\ndef say_hello(name):\\n    return f\"Hello {name}\"\\n\\n\\n@register\\ndef be_awesome(name):\\n    return f\"Yo {name}, together we\\'re the awesomest!\"\\n\\nimport random  \\n\\ndef randomly_greet(name):\\n    greeter, greeter_func = random.choice(list(PLUGINS.items()))\\n    print(f\"Using {greeter!r}\") #same as repr(greeter)\\n    return greeter_func(name)\\n\\nif \"__main__\" == __name__:\\n    randomly_greet(\"Alice\")',\n",
       "  'globals()',\n",
       "  'class TimeWaster:\\n    @debug\\n    def __init__(self, max_num):\\n        self.max_num = max_num\\n\\n    @timer\\n    def waste_time(self, num_times):\\n        for _ in range(num_times):\\n            sum([number**2 for number in range(self.max_num)])\\n\\n\\ntw = TimeWaster(1000)\\ntw.waste_time(999)',\n",
       "  \"def yell(text):\\n    return text.upper() + '!'\",\n",
       "  'bark = yell\\nfuncs = [bark, str.lower, str.capitalize]\\nfuncs',\n",
       "  \"for f in funcs:\\n    print(f, f('hey there'))\",\n",
       "  \"def greet(func):\\n    greeting = func('Hi, I am a Python program')\\n    print(greeting)\",\n",
       "  'greet(bark)',\n",
       "  \"list(map(yell, ['hello', 'hey', 'hi']))\",\n",
       "  \"def get_speak_func(volume):\\n    def whisper(text):\\n        return text.lower() + '...'\\n    def yell(text):\\n        return text.upper() + '!'\\n    if volume > 0.5:\\n        return yell\\n    else:\\n        return whisper\\n    \\nget_speak_func(0.6)('hello')\",\n",
       "  \"def get_speak_func(text, volume):\\n    def whisper():\\n        return [text.lower() + '...' for i in range(int(volume*10))]\\n    def yell():\\n        return [text.upper() + '!' for i in range(int(volume*10))]\\n    if volume > 0.5:\\n        return yell\\n    else:\\n        return whisper\\n    \\nget_speak_func('Hello, World', 0.7)()\",\n",
       "  'def make_adder(n):\\n    def add(x):\\n        return x + n\\n    return add\\n\\nplus_3 = make_adder(3)\\nplus_5 = make_adder(5)\\n\\nplus_3(4), plus_5(4) ',\n",
       "  'n = 10\\ndef add(x):\\n    return x + n\\n\\nprint(add(10))',\n",
       "  'class Adder:\\n    def __init__(self, n):\\n        self.n = n\\n\\n    def __call__(self, x):\\n        return self.n + x\\n    \\nplus_3 = Adder(3)\\nprint(plus_3)\\n\\nplus_3(4)',\n",
       "  'class Adder_not_callable:\\n    def __init__(self, n):\\n        self.n = n\\nadd = Adder_not_callable(3)',\n",
       "  'print(f\"Callable {callable(plus_3)}\")\\nprint(f\"Callable {callable(add)}\")',\n",
       "  'def decorator(func: object) -> object:\\n    def wrapper() -> None:\\n        print(\"Something is happening before the function is called.\")\\n        func()\\n        print(\"Something is happening after the function is called.\")\\n    return wrapper\\n\\ndef say_whee():\\n    print(\"Whee!\")\\n\\nsay_whee = decorator(say_whee)\\nsay_whee()',\n",
       "  'def decorator(func):\\n    def wrapper():\\n        print(\"Something is happening before the function is called.\")\\n        func()\\n        print(\"Something is happening after the function is called.\")\\n    return wrapper\\n\\n@decorator\\ndef say_whee():\\n    print(\"Whee!\")\\n    print(\"Whee!\")\\n\\nsay_whee()',\n",
       "  'import functools\\n\\ndef do_twice(func):\\n    @functools.wraps(func)\\n    def wrapper_do_twice(*args, **kwargs):\\n        func(*args, **kwargs)\\n        return func(*args, **kwargs)\\n    return wrapper_do_twice\\n\\n@do_twice\\ndef say_whee():\\n    print(\"Whee!\")\\n\\n@do_twice\\ndef greet(name):\\n    print(f\"Hello {name}\")\\n\\n@do_twice\\ndef return_greeting(name):\\n    print(\"Creating greeting\")\\n    return f\"Hi {name}\"\\n\\ntest_list =  []\\ntest_list.append(return_greeting(\"Adam\"))\\ntest_list',\n",
       "  'help(say_whee)',\n",
       "  'import functools\\nimport time\\n\\nclass Logger:\\n    _instance = None\\n    _func = None\\n\\n    def __new__(cls, *args, **kwargs):\\n        if cls._instance is None:\\n            cls._instance = super().__new__(cls)\\n        return cls._instance\\n\\ndef timer(func):\\n    @functools.wraps(func)\\n    def wrapper_timer(*args, **kwargs):\\n        start_time = time.perf_counter()\\n        value = func(*args, **kwargs)\\n        end_time = time.perf_counter()\\n        run_time = end_time - start_time\\n        print(f\"Finished {func.__name__} in {run_time:.4f} secs\")\\n        return value\\n    return wrapper_timer\\n\\n@timer\\ndef waste_some_time(num_times):\\n    for _ in range(num_times):\\n        sum([i**2 for i in range(10000)])\\n\\nif \"__main__\" == __name__:\\n    waste_some_time(1)\\n    waste_some_time(999)',\n",
       "  'import functools\\n\\ndef debug(func):\\n    \"\"\"Print the function signature and return value\"\"\"\\n    @functools.wraps(func)\\n    def wrapper_debug(*args, **kwargs):\\n        args_repr = [repr(a) for a in args]\\n        kwargs_repr = [f\"{k}={repr(v)}\" for k, v in kwargs.items()]\\n        signature = \", \".join(args_repr + kwargs_repr)\\n        print(f\"Calling {func.__name__}({signature})\")\\n        value = func(*args, **kwargs)\\n        print(f\"{func.__name__}() returned {repr(value)}\")\\n        return value\\n    return wrapper_debug\\n\\n\\n@debug\\ndef make_greeting(name, age=None):\\n    if age is None:\\n        return f\"Howdy {name}!\"\\n    else:\\n        return f\"Whoa {name}! {age} already, you are growing up!\"\\n    \\nif \"__main__\" == __name__:\\n    make_greeting(\"Benjamin\")\\n    make_greeting(\"Richard\", age=112)',\n",
       "  'import math\\n\\nmath.factorial = debug(math.factorial) #manually decorate the math.factorial function\\n\\ndef approximate_e(terms=18):\\n    return sum((1 / math.factorial(n)) for n in range(terms))\\n\\nif \"__main__\" == __name__:\\n    approximate_e(5)',\n",
       "  'import functools\\nimport time\\n\\ndef slow_down(func):\\n    \"\"\"Sleep 1 second before calling the function\"\"\"\\n    @functools.wraps(func)\\n    def wrapper_slow_down(*args, **kwargs):\\n        time.sleep(1)\\n        return func(*args, **kwargs)\\n    return wrapper_slow_down\\n\\n@slow_down\\ndef countdown(from_number):\\n    if from_number < 1:\\n        print(\"Liftoff!\")\\n    else:\\n        print(from_number)\\n        countdown(from_number - 1)\\n\\nif \"__main__\" == __name__:\\n    countdown(3)',\n",
       "  'PLUGINS = dict()\\n\\ndef register(func):\\n    \"\"\"Register a function as a plug-in\"\"\"\\n    PLUGINS[func.__name__] = func\\n    return func\\n\\n@register\\ndef say_hello(name):\\n    return f\"Hello {name}\"\\n\\n\\n@register\\ndef be_awesome(name):\\n    return f\"Yo {name}, together we\\'re the awesomest!\"\\n\\nimport random  \\n\\ndef randomly_greet(name):\\n    greeter, greeter_func = random.choice(list(PLUGINS.items()))\\n    print(f\"Using {greeter!r}\") #same as repr(greeter)\\n    return greeter_func(name)\\n\\nif \"__main__\" == __name__:\\n    randomly_greet(\"Alice\")',\n",
       "  'globals()'],\n",
       " 'Out': {4: {...},\n",
       "  7: [<function __main__.yell(text)>,\n",
       "   <method 'lower' of 'str' objects>,\n",
       "   <method 'capitalize' of 'str' objects>],\n",
       "  11: ['HELLO!', 'HEY!', 'HI!'],\n",
       "  12: 'HELLO!',\n",
       "  13: ['HELLO, WORLD!',\n",
       "   'HELLO, WORLD!',\n",
       "   'HELLO, WORLD!',\n",
       "   'HELLO, WORLD!',\n",
       "   'HELLO, WORLD!',\n",
       "   'HELLO, WORLD!',\n",
       "   'HELLO, WORLD!'],\n",
       "  14: (7, 9),\n",
       "  16: 7,\n",
       "  21: ['Hi Adam']},\n",
       " 'get_ipython': <bound method InteractiveShell.get_ipython of <ipykernel.zmqshell.ZMQInteractiveShell object at 0x7ff8c749f3a0>>,\n",
       " 'exit': <IPython.core.autocall.ZMQExitAutocall at 0x7ff8c749fb20>,\n",
       " 'quit': <IPython.core.autocall.ZMQExitAutocall at 0x7ff8c749fb20>,\n",
       " 'open': <function io.open(file, mode='r', buffering=-1, encoding=None, errors=None, newline=None, closefd=True, opener=None)>,\n",
       " '_': ['Hi Adam'],\n",
       " '__': 7,\n",
       " '___': (7, 9),\n",
       " '__vsc_ipynb_file__': '/home/piresjohann/GitHub/e_python/decorator.ipynb',\n",
       " '_i': 'PLUGINS = dict()\\n\\ndef register(func):\\n    \"\"\"Register a function as a plug-in\"\"\"\\n    PLUGINS[func.__name__] = func\\n    return func\\n\\n@register\\ndef say_hello(name):\\n    return f\"Hello {name}\"\\n\\n\\n@register\\ndef be_awesome(name):\\n    return f\"Yo {name}, together we\\'re the awesomest!\"\\n\\nimport random  \\n\\ndef randomly_greet(name):\\n    greeter, greeter_func = random.choice(list(PLUGINS.items()))\\n    print(f\"Using {greeter!r}\") #same as repr(greeter)\\n    return greeter_func(name)\\n\\nif \"__main__\" == __name__:\\n    randomly_greet(\"Alice\")',\n",
       " '_ii': 'import functools\\nimport time\\n\\ndef slow_down(func):\\n    \"\"\"Sleep 1 second before calling the function\"\"\"\\n    @functools.wraps(func)\\n    def wrapper_slow_down(*args, **kwargs):\\n        time.sleep(1)\\n        return func(*args, **kwargs)\\n    return wrapper_slow_down\\n\\n@slow_down\\ndef countdown(from_number):\\n    if from_number < 1:\\n        print(\"Liftoff!\")\\n    else:\\n        print(from_number)\\n        countdown(from_number - 1)\\n\\nif \"__main__\" == __name__:\\n    countdown(3)',\n",
       " '_iii': 'import math\\n\\nmath.factorial = debug(math.factorial) #manually decorate the math.factorial function\\n\\ndef approximate_e(terms=18):\\n    return sum((1 / math.factorial(n)) for n in range(terms))\\n\\nif \"__main__\" == __name__:\\n    approximate_e(5)',\n",
       " '_i1': 'PLUGINS = dict()\\n\\ndef register(func):\\n    \"\"\"Register a function as a plug-in\"\"\"\\n    PLUGINS[func.__name__] = func\\n    return func\\n\\n@register\\ndef say_hello(name):\\n    return f\"Hello {name}\"\\n\\n\\n@register\\ndef be_awesome(name):\\n    return f\"Yo {name}, together we\\'re the awesomest!\"\\n\\nimport random  \\n\\ndef randomly_greet(name):\\n    greeter, greeter_func = random.choice(list(PLUGINS.items()))\\n    print(f\"Using {greeter!r}\") #same as repr(greeter)\\n    return greeter_func(name)\\n\\nif \"__main__\" == __name__:\\n    randomly_greet(\"Alice\")',\n",
       " 'PLUGINS': {'say_hello': <function __main__.say_hello(name)>,\n",
       "  'be_awesome': <function __main__.be_awesome(name)>},\n",
       " 'register': <function __main__.register(func)>,\n",
       " 'say_hello': <function __main__.say_hello(name)>,\n",
       " 'be_awesome': <function __main__.be_awesome(name)>,\n",
       " 'random': <module 'random' from '/usr/lib/python3.10/random.py'>,\n",
       " 'randomly_greet': <function __main__.randomly_greet(name)>,\n",
       " '_i2': 'PLUGINS = dict()\\n\\ndef register(func):\\n    \"\"\"Register a function as a plug-in\"\"\"\\n    PLUGINS[func.__name__] = func\\n    return func\\n\\n@register\\ndef say_hello(name):\\n    return f\"Hello {name}\"\\n\\n\\n@register\\ndef be_awesome(name):\\n    return f\"Yo {name}, together we\\'re the awesomest!\"\\n\\nimport random  \\n\\ndef randomly_greet(name):\\n    greeter, greeter_func = random.choice(list(PLUGINS.items()))\\n    print(f\"Using {greeter!r}\") #same as repr(greeter)\\n    return greeter_func(name)\\n\\nif \"__main__\" == __name__:\\n    randomly_greet(\"Alice\")',\n",
       " 'builtins': <module 'builtins' (built-in)>,\n",
       " 'ipykernel': <module 'ipykernel' from '/home/piresjohann/.local/lib/python3.10/site-packages/ipykernel/__init__.py'>,\n",
       " 'debugpy': <module 'debugpy' from '/home/piresjohann/.local/lib/python3.10/site-packages/debugpy/__init__.py'>,\n",
       " '_i3': 'PLUGINS = dict()\\n\\ndef register(func):\\n    \"\"\"Register a function as a plug-in\"\"\"\\n    PLUGINS[func.__name__] = func\\n    return func\\n\\n@register\\ndef say_hello(name):\\n    return f\"Hello {name}\"\\n\\n\\n@register\\ndef be_awesome(name):\\n    return f\"Yo {name}, together we\\'re the awesomest!\"\\n\\nimport random  \\n\\ndef randomly_greet(name):\\n    greeter, greeter_func = random.choice(list(PLUGINS.items()))\\n    print(f\"Using {greeter!r}\") #same as repr(greeter)\\n    return greeter_func(name)\\n\\nif \"__main__\" == __name__:\\n    randomly_greet(\"Alice\")',\n",
       " 'file': '/tmp/ipykernel_1901/1097270327.py',\n",
       " '_i4': 'globals()',\n",
       " '_4': {...},\n",
       " '_i5': 'class TimeWaster:\\n    @debug\\n    def __init__(self, max_num):\\n        self.max_num = max_num\\n\\n    @timer\\n    def waste_time(self, num_times):\\n        for _ in range(num_times):\\n            sum([number**2 for number in range(self.max_num)])\\n\\n\\ntw = TimeWaster(1000)\\ntw.waste_time(999)',\n",
       " '_i6': \"def yell(text):\\n    return text.upper() + '!'\",\n",
       " 'yell': <function __main__.yell(text)>,\n",
       " '_i7': 'bark = yell\\nfuncs = [bark, str.lower, str.capitalize]\\nfuncs',\n",
       " 'bark': <function __main__.yell(text)>,\n",
       " 'funcs': [<function __main__.yell(text)>,\n",
       "  <method 'lower' of 'str' objects>,\n",
       "  <method 'capitalize' of 'str' objects>],\n",
       " '_7': [<function __main__.yell(text)>,\n",
       "  <method 'lower' of 'str' objects>,\n",
       "  <method 'capitalize' of 'str' objects>],\n",
       " '_i8': \"for f in funcs:\\n    print(f, f('hey there'))\",\n",
       " 'f': <method 'capitalize' of 'str' objects>,\n",
       " '_i9': \"def greet(func):\\n    greeting = func('Hi, I am a Python program')\\n    print(greeting)\",\n",
       " 'greet': <function __main__.greet(name)>,\n",
       " '_i10': 'greet(bark)',\n",
       " '_i11': \"list(map(yell, ['hello', 'hey', 'hi']))\",\n",
       " '_11': ['HELLO!', 'HEY!', 'HI!'],\n",
       " '_i12': \"def get_speak_func(volume):\\n    def whisper(text):\\n        return text.lower() + '...'\\n    def yell(text):\\n        return text.upper() + '!'\\n    if volume > 0.5:\\n        return yell\\n    else:\\n        return whisper\\n    \\nget_speak_func(0.6)('hello')\",\n",
       " 'get_speak_func': <function __main__.get_speak_func(text, volume)>,\n",
       " '_12': 'HELLO!',\n",
       " '_i13': \"def get_speak_func(text, volume):\\n    def whisper():\\n        return [text.lower() + '...' for i in range(int(volume*10))]\\n    def yell():\\n        return [text.upper() + '!' for i in range(int(volume*10))]\\n    if volume > 0.5:\\n        return yell\\n    else:\\n        return whisper\\n    \\nget_speak_func('Hello, World', 0.7)()\",\n",
       " '_13': ['HELLO, WORLD!',\n",
       "  'HELLO, WORLD!',\n",
       "  'HELLO, WORLD!',\n",
       "  'HELLO, WORLD!',\n",
       "  'HELLO, WORLD!',\n",
       "  'HELLO, WORLD!',\n",
       "  'HELLO, WORLD!'],\n",
       " '_i14': 'def make_adder(n):\\n    def add(x):\\n        return x + n\\n    return add\\n\\nplus_3 = make_adder(3)\\nplus_5 = make_adder(5)\\n\\nplus_3(4), plus_5(4) ',\n",
       " 'make_adder': <function __main__.make_adder(n)>,\n",
       " 'plus_3': <__main__.Adder at 0x7ff8b47d4250>,\n",
       " 'plus_5': <function __main__.make_adder.<locals>.add(x)>,\n",
       " '_14': (7, 9),\n",
       " '_i15': 'n = 10\\ndef add(x):\\n    return x + n\\n\\nprint(add(10))',\n",
       " 'n': 10,\n",
       " 'add': <__main__.Adder_not_callable at 0x7ff8b47d7520>,\n",
       " '_i16': 'class Adder:\\n    def __init__(self, n):\\n        self.n = n\\n\\n    def __call__(self, x):\\n        return self.n + x\\n    \\nplus_3 = Adder(3)\\nprint(plus_3)\\n\\nplus_3(4)',\n",
       " 'Adder': __main__.Adder,\n",
       " '_16': 7,\n",
       " '_i17': 'class Adder_not_callable:\\n    def __init__(self, n):\\n        self.n = n\\nadd = Adder_not_callable(3)',\n",
       " 'Adder_not_callable': __main__.Adder_not_callable,\n",
       " '_i18': 'print(f\"Callable {callable(plus_3)}\")\\nprint(f\"Callable {callable(add)}\")',\n",
       " '_i19': 'def decorator(func: object) -> object:\\n    def wrapper() -> None:\\n        print(\"Something is happening before the function is called.\")\\n        func()\\n        print(\"Something is happening after the function is called.\")\\n    return wrapper\\n\\ndef say_whee():\\n    print(\"Whee!\")\\n\\nsay_whee = decorator(say_whee)\\nsay_whee()',\n",
       " 'decorator': <function __main__.decorator(func)>,\n",
       " 'say_whee': <function __main__.say_whee()>,\n",
       " '_i20': 'def decorator(func):\\n    def wrapper():\\n        print(\"Something is happening before the function is called.\")\\n        func()\\n        print(\"Something is happening after the function is called.\")\\n    return wrapper\\n\\n@decorator\\ndef say_whee():\\n    print(\"Whee!\")\\n    print(\"Whee!\")\\n\\nsay_whee()',\n",
       " '_i21': 'import functools\\n\\ndef do_twice(func):\\n    @functools.wraps(func)\\n    def wrapper_do_twice(*args, **kwargs):\\n        func(*args, **kwargs)\\n        return func(*args, **kwargs)\\n    return wrapper_do_twice\\n\\n@do_twice\\ndef say_whee():\\n    print(\"Whee!\")\\n\\n@do_twice\\ndef greet(name):\\n    print(f\"Hello {name}\")\\n\\n@do_twice\\ndef return_greeting(name):\\n    print(\"Creating greeting\")\\n    return f\"Hi {name}\"\\n\\ntest_list =  []\\ntest_list.append(return_greeting(\"Adam\"))\\ntest_list',\n",
       " 'functools': <module 'functools' from '/usr/lib/python3.10/functools.py'>,\n",
       " 'do_twice': <function __main__.do_twice(func)>,\n",
       " 'return_greeting': <function __main__.return_greeting(name)>,\n",
       " 'test_list': ['Hi Adam'],\n",
       " '_21': ['Hi Adam'],\n",
       " '_i22': 'help(say_whee)',\n",
       " '_i23': 'import functools\\nimport time\\n\\nclass Logger:\\n    _instance = None\\n    _func = None\\n\\n    def __new__(cls, *args, **kwargs):\\n        if cls._instance is None:\\n            cls._instance = super().__new__(cls)\\n        return cls._instance\\n\\ndef timer(func):\\n    @functools.wraps(func)\\n    def wrapper_timer(*args, **kwargs):\\n        start_time = time.perf_counter()\\n        value = func(*args, **kwargs)\\n        end_time = time.perf_counter()\\n        run_time = end_time - start_time\\n        print(f\"Finished {func.__name__} in {run_time:.4f} secs\")\\n        return value\\n    return wrapper_timer\\n\\n@timer\\ndef waste_some_time(num_times):\\n    for _ in range(num_times):\\n        sum([i**2 for i in range(10000)])\\n\\nif \"__main__\" == __name__:\\n    waste_some_time(1)\\n    waste_some_time(999)',\n",
       " 'time': <module 'time' (built-in)>,\n",
       " 'Logger': __main__.Logger,\n",
       " 'timer': <function __main__.timer(func)>,\n",
       " 'waste_some_time': <function __main__.waste_some_time(num_times)>,\n",
       " '_i24': 'import functools\\n\\ndef debug(func):\\n    \"\"\"Print the function signature and return value\"\"\"\\n    @functools.wraps(func)\\n    def wrapper_debug(*args, **kwargs):\\n        args_repr = [repr(a) for a in args]\\n        kwargs_repr = [f\"{k}={repr(v)}\" for k, v in kwargs.items()]\\n        signature = \", \".join(args_repr + kwargs_repr)\\n        print(f\"Calling {func.__name__}({signature})\")\\n        value = func(*args, **kwargs)\\n        print(f\"{func.__name__}() returned {repr(value)}\")\\n        return value\\n    return wrapper_debug\\n\\n\\n@debug\\ndef make_greeting(name, age=None):\\n    if age is None:\\n        return f\"Howdy {name}!\"\\n    else:\\n        return f\"Whoa {name}! {age} already, you are growing up!\"\\n    \\nif \"__main__\" == __name__:\\n    make_greeting(\"Benjamin\")\\n    make_greeting(\"Richard\", age=112)',\n",
       " 'debug': <function __main__.debug(func)>,\n",
       " 'make_greeting': <function __main__.make_greeting(name, age=None)>,\n",
       " '_i25': 'import math\\n\\nmath.factorial = debug(math.factorial) #manually decorate the math.factorial function\\n\\ndef approximate_e(terms=18):\\n    return sum((1 / math.factorial(n)) for n in range(terms))\\n\\nif \"__main__\" == __name__:\\n    approximate_e(5)',\n",
       " 'math': <module 'math' (built-in)>,\n",
       " 'approximate_e': <function __main__.approximate_e(terms=18)>,\n",
       " '_i26': 'import functools\\nimport time\\n\\ndef slow_down(func):\\n    \"\"\"Sleep 1 second before calling the function\"\"\"\\n    @functools.wraps(func)\\n    def wrapper_slow_down(*args, **kwargs):\\n        time.sleep(1)\\n        return func(*args, **kwargs)\\n    return wrapper_slow_down\\n\\n@slow_down\\ndef countdown(from_number):\\n    if from_number < 1:\\n        print(\"Liftoff!\")\\n    else:\\n        print(from_number)\\n        countdown(from_number - 1)\\n\\nif \"__main__\" == __name__:\\n    countdown(3)',\n",
       " 'slow_down': <function __main__.slow_down(func)>,\n",
       " 'countdown': <function __main__.countdown(from_number)>,\n",
       " '_i27': 'PLUGINS = dict()\\n\\ndef register(func):\\n    \"\"\"Register a function as a plug-in\"\"\"\\n    PLUGINS[func.__name__] = func\\n    return func\\n\\n@register\\ndef say_hello(name):\\n    return f\"Hello {name}\"\\n\\n\\n@register\\ndef be_awesome(name):\\n    return f\"Yo {name}, together we\\'re the awesomest!\"\\n\\nimport random  \\n\\ndef randomly_greet(name):\\n    greeter, greeter_func = random.choice(list(PLUGINS.items()))\\n    print(f\"Using {greeter!r}\") #same as repr(greeter)\\n    return greeter_func(name)\\n\\nif \"__main__\" == __name__:\\n    randomly_greet(\"Alice\")',\n",
       " '_i28': 'globals()'}"
      ]
     },
     "execution_count": 28,
     "metadata": {},
     "output_type": "execute_result"
    }
   ],
   "source": [
    "globals()"
   ]
  },
  {
   "cell_type": "markdown",
   "metadata": {},
   "source": [
    "# Review code\n",
    "\n",
    "Pie notation is a shorthand for calling a function. It is a way to call a function without using parentheses. It is used to call a function that takes no arguments.\n",
    "\n",
    "repr() is a built-in function in Python that returns a string representation of an object. The repr() function returns a printable representation of the given object.\n",
    "\n",
    "globals and decorator are used to get the global variables and the decorator function.\n"
   ]
  },
  {
   "cell_type": "markdown",
   "metadata": {},
   "source": [
    "## Fancy Decorators\n",
    "\n",
    "- [ ] Need to look more into python build-in decorators\n",
    "- [ ] Need to review this code"
   ]
  },
  {
   "cell_type": "code",
   "execution_count": 29,
   "metadata": {},
   "outputs": [],
   "source": [
    "# Here is a example of buildin decorators in python\n",
    "class Circle:\n",
    "    def __init__(self, radius):\n",
    "        self.radius = radius\n",
    "\n",
    "    @property\n",
    "    def radius(self):\n",
    "        \"\"\"Get value of radius\"\"\"\n",
    "        return self._radius\n",
    "\n",
    "    @radius.setter\n",
    "    def radius(self, value):\n",
    "        \"\"\"Set radius, raise error if negative\"\"\"\n",
    "        if value >= 0:\n",
    "            self._radius = value\n",
    "        else:\n",
    "            raise ValueError(\"radius must be non-negative\")\n",
    "\n",
    "    @property\n",
    "    def area(self):\n",
    "        \"\"\"Calculate area inside circle\"\"\"\n",
    "        return self.pi() * self.radius**2\n",
    "\n",
    "    def cylinder_volume(self, height):\n",
    "        \"\"\"Calculate volume of cylinder with circle as base\"\"\"\n",
    "        return self.area * height\n",
    "\n",
    "    @classmethod\n",
    "    def unit_circle(cls):\n",
    "        \"\"\"Factory method creating a circle with radius 1\"\"\"\n",
    "        return cls(1)\n",
    "\n",
    "    @staticmethod\n",
    "    def pi():\n",
    "        \"\"\"Value of π, could use math.pi instead though\"\"\"\n",
    "        return 3.1415926535"
   ]
  },
  {
   "cell_type": "code",
   "execution_count": 30,
   "metadata": {},
   "outputs": [],
   "source": [
    "c = Circle(5)\n",
    "c.radius =  10\n"
   ]
  },
  {
   "cell_type": "code",
   "execution_count": 31,
   "metadata": {},
   "outputs": [
    {
     "name": "stdout",
     "output_type": "stream",
     "text": [
      "Calling __init__(<__main__.TimeWaster object at 0x7ff8c431e950>, 1000)\n",
      "__init__() returned None\n",
      "Finished waste_time in 0.6036 secs\n"
     ]
    }
   ],
   "source": [
    "class TimeWaster:\n",
    "    @debug\n",
    "    def __init__(self, max_num):\n",
    "        self.max_num = max_num\n",
    "\n",
    "    @timer\n",
    "    def waste_time(self, num_times):\n",
    "        for _ in range(num_times):\n",
    "            sum([number**2 for number in range(self.max_num)])\n",
    "\n",
    "\n",
    "tw = TimeWaster(1000)\n",
    "tw.waste_time(999)"
   ]
  },
  {
   "cell_type": "code",
   "execution_count": 32,
   "metadata": {},
   "outputs": [],
   "source": [
    "# This way I only meansure the for class instance creation and method call\n",
    "@timer\n",
    "class TimeWaster:\n",
    "    def __init__(self, max_num):\n",
    "        self.max_num = max_num\n",
    "\n",
    "    def waste_time(self, num_times):\n",
    "        for _ in range(num_times):\n",
    "            sum([i**2 for i in range(self.max_num)])"
   ]
  },
  {
   "cell_type": "code",
   "execution_count": 6,
   "metadata": {},
   "outputs": [
    {
     "name": "stdout",
     "output_type": "stream",
     "text": [
      "Call 1 of say_whee()\n",
      "Whee!\n",
      "Call 2 of say_whee()\n",
      "Whee!\n"
     ]
    },
    {
     "data": {
      "text/plain": [
       "2"
      ]
     },
     "execution_count": 6,
     "metadata": {},
     "output_type": "execute_result"
    }
   ],
   "source": [
    "def count_calls(func):\n",
    "    @functools.wraps(func)\n",
    "    def wrapper_count_calls(*args, **kwargs):\n",
    "        wrapper_count_calls.num_calls += 1\n",
    "        print(f\"Call {wrapper_count_calls.num_calls} of {func.__name__}()\")\n",
    "        return func(*args, **kwargs)\n",
    "    wrapper_count_calls.num_calls = 0\n",
    "    return wrapper_count_calls\n",
    "\n",
    "@count_calls\n",
    "def say_whee():\n",
    "    print(\"Whee!\")\n",
    "\n",
    "\n",
    "say_whee()\n",
    "say_whee()\n",
    "say_whee.num_calls\n"
   ]
  },
  {
   "cell_type": "code",
   "execution_count": 4,
   "metadata": {},
   "outputs": [
    {
     "name": "stdout",
     "output_type": "stream",
     "text": [
      "Call 1 of say_whee()\n",
      "Whee!\n",
      "Call 2 of say_whee()\n",
      "Whee!\n"
     ]
    }
   ],
   "source": [
    "import functools\n",
    "\n",
    "class CountCalls:\n",
    "    def __init__(self, func):\n",
    "        functools.update_wrapper(self, func)\n",
    "        self.func = func\n",
    "        self.num_calls = 0\n",
    "\n",
    "    def __call__(self, *args, **kwargs):\n",
    "        self.num_calls += 1\n",
    "        print(f\"Call {self.num_calls} of {self.func.__name__}()\")\n",
    "        return self.func(*args, **kwargs)\n",
    "\n",
    "@CountCalls\n",
    "def say_whee():\n",
    "    print(\"Whee!\")\n",
    "\n",
    "say_whee()\n",
    "say_whee()"
   ]
  },
  {
   "cell_type": "code",
   "execution_count": 38,
   "metadata": {},
   "outputs": [
    {
     "name": "stdout",
     "output_type": "stream",
     "text": [
      "3\n",
      "2\n",
      "1\n",
      "Liftoff!\n"
     ]
    }
   ],
   "source": [
    "import functools\n",
    "import time\n",
    "\n",
    "# ...\n",
    "\n",
    "def slow_down(_func=None, *, rate=1):\n",
    "    \"\"\"Sleep given amount of seconds before calling the function\"\"\"\n",
    "    def decorator_slow_down(func):\n",
    "        @functools.wraps(func)\n",
    "        def wrapper_slow_down(*args, **kwargs):\n",
    "            time.sleep(rate)\n",
    "            return func(*args, **kwargs)\n",
    "        return wrapper_slow_down\n",
    "\n",
    "    if _func is None:\n",
    "        return decorator_slow_down\n",
    "    else:\n",
    "        return decorator_slow_down(_func)\n",
    "\n",
    "@slow_down(rate=2)\n",
    "def countdown(from_number):\n",
    "    if from_number < 1:\n",
    "        print(\"Liftoff!\")\n",
    "    else:\n",
    "        print(from_number)\n",
    "        countdown(from_number - 1)\n",
    "\n",
    "countdown(3)"
   ]
  },
  {
   "cell_type": "code",
   "execution_count": 39,
   "metadata": {},
   "outputs": [
    {
     "data": {
      "text/plain": [
       "True"
      ]
     },
     "execution_count": 39,
     "metadata": {},
     "output_type": "execute_result"
    }
   ],
   "source": [
    "def singleton(cls):\n",
    "    \"\"\"Make a class a Singleton class (only one instance)\"\"\"\n",
    "    @functools.wraps(cls)\n",
    "    def wrapper_singleton(*args, **kwargs):\n",
    "        if wrapper_singleton.instance is None:\n",
    "            wrapper_singleton.instance = cls(*args, **kwargs)\n",
    "        return wrapper_singleton.instance\n",
    "    wrapper_singleton.instance = None\n",
    "    return wrapper_singleton\n",
    "\n",
    "\n",
    "@singleton\n",
    "class TheOne:\n",
    "    pass\n",
    "\n",
    "\n",
    "first_one = TheOne()\n",
    "another_one = TheOne()\n",
    "\n",
    "id(first_one)\n",
    "\n",
    "\n",
    "id(another_one)\n",
    "\n",
    "\n",
    "first_one is another_one"
   ]
  },
  {
   "cell_type": "code",
   "execution_count": 15,
   "metadata": {},
   "outputs": [
    {
     "name": "stdout",
     "output_type": "stream",
     "text": [
      "Call 1 of fibonacci()\n",
      "Call 2 of fibonacci()\n",
      "Call 3 of fibonacci()\n",
      "Call 4 of fibonacci()\n",
      "Call 5 of fibonacci()\n",
      "Call 6 of fibonacci()\n",
      "Call 7 of fibonacci()\n",
      "Call 8 of fibonacci()\n",
      "Call 9 of fibonacci()\n",
      "Call 10 of fibonacci()\n",
      "Call 11 of fibonacci()\n"
     ]
    },
    {
     "data": {
      "text/plain": [
       "55"
      ]
     },
     "execution_count": 15,
     "metadata": {},
     "output_type": "execute_result"
    }
   ],
   "source": [
    "def cache(func):\n",
    "    \"\"\"Keep a cache of previous function calls\"\"\"\n",
    "    @functools.wraps(func)\n",
    "    def wrapper_cache(*args, **kwargs):\n",
    "        cache_key = args + tuple(kwargs.items())\n",
    "        if cache_key not in wrapper_cache.cache:\n",
    "            wrapper_cache.cache[cache_key] = func(*args, **kwargs)\n",
    "        return wrapper_cache.cache[cache_key]\n",
    "    wrapper_cache.cache = {}\n",
    "    return wrapper_cache\n",
    "\n",
    "@cache\n",
    "@count_calls\n",
    "def fibonacci(num):\n",
    "    if num < 2:\n",
    "        return num\n",
    "    return fibonacci(num - 1) + fibonacci(num - 2)\n",
    "\n",
    "fibonacci(10)"
   ]
  },
  {
   "cell_type": "code",
   "execution_count": 19,
   "metadata": {},
   "outputs": [
    {
     "data": {
      "text/plain": [
       "CacheInfo(hits=11, misses=15, maxsize=4, currsize=4)"
      ]
     },
     "execution_count": 19,
     "metadata": {},
     "output_type": "execute_result"
    }
   ],
   "source": [
    "fibonacci(3)"
   ]
  },
  {
   "cell_type": "markdown",
   "metadata": {},
   "source": [
    "Im using a cache for exemple of decorators, but dont write my on code when need to use it, just use build-in decorators.\n",
    "\n",
    "Here [lru cache python](https://realpython.com/lru-cache-python/)\n"
   ]
  },
  {
   "cell_type": "markdown",
   "metadata": {},
   "source": []
  },
  {
   "cell_type": "code",
   "execution_count": 20,
   "metadata": {},
   "outputs": [
    {
     "name": "stdout",
     "output_type": "stream",
     "text": [
      "Calculated fibonacci(1) = 1\n",
      "Calculated fibonacci(0) = 0\n",
      "Calculated fibonacci(2) = 1\n",
      "Calculated fibonacci(3) = 2\n",
      "Calculated fibonacci(4) = 3\n",
      "Calculated fibonacci(5) = 5\n",
      "Calculated fibonacci(6) = 8\n",
      "Calculated fibonacci(7) = 13\n",
      "Calculated fibonacci(8) = 21\n",
      "Calculated fibonacci(9) = 34\n",
      "Calculated fibonacci(10) = 55\n",
      "________________________\n"
     ]
    },
    {
     "data": {
      "text/plain": [
       "CacheInfo(hits=9, misses=11, maxsize=4, currsize=4)"
      ]
     },
     "execution_count": 20,
     "metadata": {},
     "output_type": "execute_result"
    }
   ],
   "source": [
    "@functools.lru_cache(maxsize=4)\n",
    "def fibonacci(num):\n",
    "    if num < 2:\n",
    "        value = num\n",
    "    else:\n",
    "        value = fibonacci(num - 1) + fibonacci(num - 2)\n",
    "    print(f\"Calculated fibonacci({num}) = {value}\")\n",
    "    return value\n",
    "\n",
    "fibonacci(10)\n",
    "print(\"________________________\")\n",
    "fibonacci(8)\n",
    "fibonacci.cache_info()"
   ]
  },
  {
   "cell_type": "code",
   "execution_count": 24,
   "metadata": {},
   "outputs": [
    {
     "data": {
      "text/plain": [
       "0.0373464440537444"
      ]
     },
     "execution_count": 24,
     "metadata": {},
     "output_type": "execute_result"
    }
   ],
   "source": [
    "import math\n",
    "import pint\n",
    "\n",
    "def set_unit(unit):\n",
    "    \"\"\"Register a unit on a function\"\"\"\n",
    "    def decorator_set_unit(func):\n",
    "        func.unit = unit\n",
    "        return func\n",
    "    return decorator_set_unit\n",
    "\n",
    "@set_unit(\"cm^3\")\n",
    "def volume(radius, height):\n",
    "    return math.pi * radius**2 * height\n",
    "\n",
    "ureg = pint.UnitRegistry()\n",
    "vol = volume(3, 5) * ureg(\"cm^3\")\n",
    "\n",
    "vol.to(\"cubic inches\")\n",
    "\n",
    "vol.to(\"gallons\").m\n"
   ]
  }
 ],
 "metadata": {
  "kernelspec": {
   "display_name": "Python 3",
   "language": "python",
   "name": "python3"
  },
  "language_info": {
   "codemirror_mode": {
    "name": "ipython",
    "version": 3
   },
   "file_extension": ".py",
   "mimetype": "text/x-python",
   "name": "python",
   "nbconvert_exporter": "python",
   "pygments_lexer": "ipython3",
   "version": "3.10.6"
  }
 },
 "nbformat": 4,
 "nbformat_minor": 2
}
