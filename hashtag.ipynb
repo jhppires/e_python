{
 "cells": [
  {
   "cell_type": "markdown",
   "metadata": {},
   "source": [
    "# HashTag Course"
   ]
  },
  {
   "cell_type": "code",
   "execution_count": 3,
   "metadata": {},
   "outputs": [
    {
     "name": "stdout",
     "output_type": "stream",
     "text": [
      "1941801504112309299\n"
     ]
    }
   ],
   "source": [
    "user_response =  input(\"Enter a string: \")\n",
    "print(hash(user_response))"
   ]
  },
  {
   "cell_type": "markdown",
   "metadata": {},
   "source": [
    "Format is good when you have a lot variables with differents types."
   ]
  },
  {
   "cell_type": "code",
   "execution_count": 4,
   "metadata": {},
   "outputs": [
    {
     "name": "stdout",
     "output_type": "stream",
     "text": [
      "O faturamento da loja foi 1000. O custo da loja foi 500. O lucro da loja foi 500.\n"
     ]
    }
   ],
   "source": [
    "faturamento = 1000\n",
    "custo = 500\n",
    "lucro = faturamento - custo\n",
    "\n",
    "print(\"O faturamento da loja foi {}. O custo da loja foi {}. O lucro da loja foi {}.\".format(faturamento, custo, lucro))"
   ]
  },
  {
   "cell_type": "markdown",
   "metadata": {},
   "source": [
    "## Module 7: String\n",
    "\n",
    "### String Methods\n",
    "- capitalize(): Converts the first character to upper case.\n",
    "- lower(): Converts a string into lower case.\n",
    "- upper(): Converts a string into upper case.\n",
    "- title(): Converts the first character of each word to upper case.\n",
    "- strip(): Returns a trimmed version of the string.\n",
    "- split(): Splits the string at the specified separator and returns a list of substrings.\n",
    "- replace(): Replaces a specified phrase with another specified phrase.\n",
    "- find(): Searches the string for a specified value and returns the position of where it was found.\n",
    "- format(): Formats specified values in a string.\n",
    "- join(): Joins the elements of an iterable to the end of the string.\n",
    "- count(): Returns the number of times a specified value occurs in a string.\n",
    "- startswith(): Returns True if the string starts with the specified value.\n",
    "- endswith(): Returns True if the string ends with the specified value.\n",
    "- isnumeric(): Returns True if all characters in the string are numeric.\n",
    "- isalpha(): Returns True if all characters in the string are in the alphabet.\n",
    "- isalnum(): Returns True if all characters in the string are alphanumeric (either alphabets or numbers).\n",
    "- isspace(): Returns True if all characters in the string are whitespaces.\n",
    "\n",
    "### Format Options String\n",
    "Width - Specify the width of the field:\n",
    "\n",
    "Precision - Specify the number of decimal places:\n",
    "\n",
    "Type - Specify the type of the data. For example, b for binary, e for exponent, f for float, etc.:\n",
    "\n",
    "Alignment - Specify the alignment of the text. < for left-align, > for right-align, ^ for center:\n",
    "\n",
    "Sign - Specify the sign for numeric types. + for both positive and negative numbers, - for negative numbers only (default), (space) for a leading space for positive numbers:\n",
    "\n",
    "Zero padding - Add zeros instead of spaces:\n",
    "\n",
    "Thousands separator - Add a comma as a thousands separator:"
   ]
  },
  {
   "cell_type": "code",
   "execution_count": 22,
   "metadata": {},
   "outputs": [
    {
     "name": "stdout",
     "output_type": "stream",
     "text": [
      "2.34\n",
      "1,000,000\n",
      "b'Python, is cool'\n",
      "Python, is cool\n",
      "('Python', ',', ' is cool')\n",
      "00000Python, is cool\n"
     ]
    }
   ],
   "source": [
    "import pandas as pd\n",
    "# just need to remember metods for string,\n",
    "\n",
    "values = {'name': 'John', 'age': 30}\n",
    "\n",
    "string_test = 2.341123\n",
    "print(f\"{string_test:.2f}\")\n",
    "number_test =  1000000\n",
    "print(f\"{number_test:,}\")\n",
    "\n",
    "string_test = \"Python, is cool\"\n",
    "print(string_test.encode())\n",
    "print(string_test.format_map(\",\"))\n",
    "print(string_test.rpartition(\",\")) #partition and split are similar, but partition returns a tuple with the string split in 3 parts\n",
    "print(string_test.zfill(20))"
   ]
  },
  {
   "cell_type": "code",
   "execution_count": 23,
   "metadata": {},
   "outputs": [
    {
     "name": "stdout",
     "output_type": "stream",
     "text": [
      "{'january': 100, 'february': 200, 'march': 300}\n"
     ]
    }
   ],
   "source": [
    "prices =  \"january: 100, february: 200, march: 300\"\n",
    "\n",
    "pairs = prices.split(\", \")\n",
    "\n",
    "# Create a dictionary from the pairs\n",
    "prices_dict = {}\n",
    "for pair in pairs:\n",
    "    key, value = pair.split(\": \")\n",
    "    prices_dict[key] = int(value)\n",
    "\n",
    "print(prices_dict)"
   ]
  }
 ],
 "metadata": {
  "kernelspec": {
   "display_name": "Python 3",
   "language": "python",
   "name": "python3"
  },
  "language_info": {
   "codemirror_mode": {
    "name": "ipython",
    "version": 3
   },
   "file_extension": ".py",
   "mimetype": "text/x-python",
   "name": "python",
   "nbconvert_exporter": "python",
   "pygments_lexer": "ipython3",
   "version": "3.10.6"
  }
 },
 "nbformat": 4,
 "nbformat_minor": 2
}
