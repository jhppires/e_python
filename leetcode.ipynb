{
 "cells": [
  {
   "cell_type": "code",
   "execution_count": 2,
   "metadata": {},
   "outputs": [],
   "source": [
    "from typing import List\n",
    "\n",
    "class Solution:\n",
    "    def permute(self, nums: List[int]) -> List[List[int]]:\n",
    "        res = []\n",
    "        if(len(nums)==1):\n",
    "            return [nums[:]]\n",
    "\n",
    "        for i in range (len(nums)):\n",
    "            n = nums.pop(0)\n",
    "            perm = self.permute(nums)\n",
    "\n",
    "            for p in perm:\n",
    "                p.append(n)         \n",
    "            res.extend(perm)\n",
    "            nums.append(n)\n",
    "\n",
    "        return res"
   ]
  },
  {
   "cell_type": "code",
   "execution_count": 6,
   "metadata": {},
   "outputs": [],
   "source": [
    "# class Solution:\n",
    "#     def permute(self, nums: List[int]) -> List[List[int]]:\n",
    "#         n = len(nums)\n",
    "#         ans, sol = [], []\n",
    "\n",
    "#         def backtrack():\n",
    "#             if len(sol) == n:\n",
    "#                 ans.append(sol[:])\n",
    "#                 return\n",
    "\n",
    "#             for x in nums:\n",
    "#                 if x not in sol:\n",
    "#                     sol.append(x)\n",
    "#                     backtrack()\n",
    "#                     sol.pop()\n",
    "#         backtrack()\n",
    "#         return ans"
   ]
  },
  {
   "cell_type": "code",
   "execution_count": 4,
   "metadata": {},
   "outputs": [
    {
     "data": {
      "text/plain": [
       "[[3, 2, 1], [2, 3, 1], [1, 3, 2], [3, 1, 2], [2, 1, 3], [1, 2, 3]]"
      ]
     },
     "execution_count": 4,
     "metadata": {},
     "output_type": "execute_result"
    }
   ],
   "source": [
    "Solution().permute([1,2,3])"
   ]
  },
  {
   "cell_type": "code",
   "execution_count": 7,
   "metadata": {},
   "outputs": [],
   "source": [
    "from typing import List\n",
    "\n",
    "class Solution:\n",
    "    def twoSum(self, nums: List[int], target: int) -> List[int]:\n",
    "        hash_nums = {num: i  for i, num in enumerate(nums)} \n",
    "\n",
    "        print(hash_nums)\n",
    "\n",
    "        for i, v in enumerate(nums):\n",
    "            desired = target - v\n",
    "            if desired in hash_nums.keys() and i != hash_nums[desired]:\n",
    "                    return [i, hash_nums[desired]]"
   ]
  },
  {
   "cell_type": "code",
   "execution_count": 8,
   "metadata": {},
   "outputs": [
    {
     "name": "stdout",
     "output_type": "stream",
     "text": [
      "{3: 0, 2: 1, 4: 2}\n"
     ]
    },
    {
     "data": {
      "text/plain": [
       "[1, 2]"
      ]
     },
     "execution_count": 8,
     "metadata": {},
     "output_type": "execute_result"
    }
   ],
   "source": [
    "Solution().twoSum([3,2,4], 6)"
   ]
  },
  {
   "cell_type": "code",
   "execution_count": 9,
   "metadata": {},
   "outputs": [
    {
     "data": {
      "text/plain": [
       "'blue is sky the'"
      ]
     },
     "execution_count": 9,
     "metadata": {},
     "output_type": "execute_result"
    }
   ],
   "source": [
    "from typing import List\n",
    "\n",
    "class Solution:\n",
    "    def reverseWords(self, s: str) -> str:\n",
    "        words : List = s.strip().split(' ')\n",
    "        words = words[::-1]\n",
    "        words = [word for word in words if word != '']\n",
    "        return ' '.join(words)\n",
    "\n",
    "Solution().reverseWords(\" the sky  is blue\")"
   ]
  },
  {
   "cell_type": "code",
   "execution_count": 10,
   "metadata": {},
   "outputs": [
    {
     "data": {
      "text/plain": [
       "'blue is sky the'"
      ]
     },
     "execution_count": 10,
     "metadata": {},
     "output_type": "execute_result"
    }
   ],
   "source": [
    "import re\n",
    "\n",
    "class Solution:\n",
    "    def reverseWords(self, s: str) -> str:\n",
    "        words : List = re.sub(' +', ' ', s.strip()).split(' ')\n",
    "        words.reverse()\n",
    "        return ' '.join(words)\n",
    "\n",
    "Solution().reverseWords(\" the sky  is blue\")"
   ]
  },
  {
   "cell_type": "code",
   "execution_count": 3,
   "metadata": {},
   "outputs": [
    {
     "data": {
      "text/plain": [
       "False"
      ]
     },
     "execution_count": 3,
     "metadata": {},
     "output_type": "execute_result"
    }
   ],
   "source": [
    "class Solution:\n",
    "    def isPalindrome(self, x: int) -> bool:\n",
    "        x = str(x)\n",
    "        inverse = x[::-1]\n",
    "        return x == inverse\n",
    "Solution().isPalindrome(123)\n",
    "        "
   ]
  },
  {
   "cell_type": "code",
   "execution_count": 113,
   "metadata": {},
   "outputs": [
    {
     "data": {
      "text/plain": [
       "''"
      ]
     },
     "execution_count": 113,
     "metadata": {},
     "output_type": "execute_result"
    }
   ],
   "source": [
    "from typing import List\n",
    "class Solution:\n",
    "    def longestCommonPrefix(self, strs: List[str]) -> str:\n",
    "        if not tuple(zip(*strs)):\n",
    "            return \"\"\n",
    "        \n",
    "        if len(strs) == 1:\n",
    "            return strs[0]\n",
    "\n",
    "        for i, letter_group in enumerate(zip(*strs)):\n",
    "            if len(set(letter_group)) > 1:\n",
    "                return strs[0][:i]\n",
    "            elif len(set(letter_group)) == 1:\n",
    "                return strs[0][:i+1]\n",
    "\n",
    "\n",
    "Solution().longestCommonPrefix([\"\",\"\"])"
   ]
  },
  {
   "cell_type": "code",
   "execution_count": 114,
   "metadata": {},
   "outputs": [
    {
     "data": {
      "text/plain": [
       "'fl'"
      ]
     },
     "execution_count": 114,
     "metadata": {},
     "output_type": "execute_result"
    }
   ],
   "source": [
    "from typing import List\n",
    "class Solution:\n",
    "    def longestCommonPrefix(self, strs: List[str]) -> str:\n",
    "        strs = sorted(strs)\n",
    "        first = strs[0]\n",
    "        last = strs[-1]\n",
    "        prefix = \"\"\n",
    "\n",
    "        for i in range(min(len(first), len(last))):\n",
    "            if first[i] == last[i]:\n",
    "                prefix += first[i]\n",
    "            else:\n",
    "                break\n",
    "        return prefix\n",
    "        \n",
    "\n",
    "Solution().longestCommonPrefix([\"flower\",\"flow\",\"flight\"])"
   ]
  },
  {
   "cell_type": "code",
   "execution_count": 10,
   "metadata": {},
   "outputs": [
    {
     "name": "stdout",
     "output_type": "stream",
     "text": [
      "3\n"
     ]
    }
   ],
   "source": [
    "''' \n",
    "r,l\n",
    "d   v   d   f\n",
    "\n",
    "l   r\n",
    "d   v   d   f\n",
    "\n",
    "l       r\n",
    "d   v   d   f\n",
    "\n",
    "    l   r \n",
    "d   v   d   f\n",
    "\n",
    "\n",
    "    l       r \n",
    "d   v   d   f\n",
    "'''\n",
    "\n",
    "\n",
    "class Solution:\n",
    "    def lengthOfLongestSubstring(self, s: str) -> int:        \n",
    "        n = len(s)\n",
    "        maxLength = 0\n",
    "        charIndex = [-1] * 128\n",
    "        left = 0\n",
    "        \n",
    "        for right in range(n):\n",
    "            if charIndex[ord(s[right])] >= left:\n",
    "                left = charIndex[ord(s[right])] + 1\n",
    "            charIndex[ord(s[right])] = right\n",
    "            maxLength = max(maxLength, right - left + 1)\n",
    "\n",
    "        return maxLength\n",
    "print(Solution().lengthOfLongestSubstring(\"dvdf\"))"
   ]
  },
  {
   "cell_type": "code",
   "execution_count": 21,
   "metadata": {},
   "outputs": [
    {
     "name": "stdout",
     "output_type": "stream",
     "text": [
      "<class 'pandas.core.series.Series'>\n"
     ]
    }
   ],
   "source": [
    "import pandas as pd\n",
    "\n",
    "def find_customer_referee(customer: pd.DataFrame) -> pd.DataFrame:\n",
    "    return pd.DataFrame(customer[(customer['referee_id'] != 2) | (pd.isna(customer['referee_id']))]['name'])\n",
    "\n",
    "\n",
    "data = [[1, 'Will', None], [2, 'Jane', None], [3, 'Alex', 2], [4, 'Bill', None], [5, 'Zack', 1], [6, 'Mark', 2]]\n",
    "customer = pd.DataFrame(data, columns=['id', 'name', 'referee_id']).astype({'id':'Int64', 'name':'object', 'referee_id':'Int64'})\n",
    "find_customer_referee(customer)\\\n"
   ]
  },
  {
   "cell_type": "markdown",
   "metadata": {},
   "source": [
    "https://leetcode.com/discuss/study-guide/1733447/become-master-in-recursion\n"
   ]
  },
  {
   "cell_type": "code",
   "execution_count": null,
   "metadata": {},
   "outputs": [],
   "source": [
    "from typing import List\n",
    "\n",
    "class Solution:\n",
    "    def subsets(self, nums: List[int]) -> List[List[int]]:\n",
    "        res = []\n",
    "        op = []\n",
    "        self.solver(nums, 0, op, res)\n",
    "        return res\n",
    "\n",
    "    def solver(self, nums: List[int], start:int, op:List[int], resolution:List[List[int]]):\n",
    "        if start == len(nums):\n",
    "            resolution.append(op.copy())\n",
    "            return\n",
    "\n",
    "        self.solver(nums, start + 1, op, resolution)\n",
    "        op.append(nums[start])\n",
    "        self.solver(nums, start + 1, op, resolution)\n",
    "        op.pop()\n",
    "\n",
    "Solution().subsets([1,2,3])"
   ]
  },
  {
   "cell_type": "code",
   "execution_count": 9,
   "metadata": {},
   "outputs": [
    {
     "name": "stdout",
     "output_type": "stream",
     "text": [
      "FizzBuzz\n"
     ]
    }
   ],
   "source": [
    "if __name__ == '__main__':\n",
    "    n = 15\n",
    "    if n % 3 == 0 and n % 5 == 0:\n",
    "        print(\"FizzBuzz\")\n",
    "    elif n % 3 == 0:\n",
    "        print(\"Fizz\")\n",
    "    elif n % 5 == 0:\n",
    "        print(\"Buzz\")\n",
    "    else:\n",
    "        print(n)"
   ]
  },
  {
   "cell_type": "code",
   "execution_count": 1,
   "metadata": {},
   "outputs": [
    {
     "name": "stdout",
     "output_type": "stream",
     "text": [
      "[{'product': 'key', 'price': '50', 'year': '2013'}, {'product': 'fan', 'price': '100', 'year': '2012'}]\n"
     ]
    }
   ],
   "source": [
    "data = [[\"key\", \"50\", \"2013\"], [\"fan\", \"100\", \"2012\"]]\n",
    "\n",
    "# Lista de chaves para os dicionários\n",
    "keys = [\"product\", \"price\", \"year\"]\n",
    "\n",
    "# Converte cada sublista em um dicionário\n",
    "dict_list = [dict(zip(keys, item)) for item in data]\n",
    "\n",
    "# Mostra o resultado\n",
    "print(dict_list)"
   ]
  },
  {
   "cell_type": "code",
   "execution_count": 6,
   "metadata": {},
   "outputs": [
    {
     "name": "stdout",
     "output_type": "stream",
     "text": [
      "['esta', 'é', 'uma', 'string', 'de', 'exemplo']\n"
     ]
    }
   ],
   "source": [
    "import re\n",
    "\n",
    "sentence = \"Esta é uma STRING de EXEMPLO\"\n",
    "words = (sentence.split())\n",
    "result = \"\"\n",
    "\n",
    "for word in words:\n",
    "    if bool(re.match(r'^[a-zA-Z]+$', word)):\n",
    "        if len(word) % 2 == 0:\n",
    "            result = word if len(word) > len(result) else result\n",
    "\n"
   ]
  },
  {
   "cell_type": "code",
   "execution_count": 27,
   "metadata": {},
   "outputs": [
    {
     "data": {
      "text/plain": [
       "'bab'"
      ]
     },
     "execution_count": 27,
     "metadata": {},
     "output_type": "execute_result"
    }
   ],
   "source": [
    "class Solution:\n",
    "    def longestPalindrome(self, s: str) -> str:\n",
    "        if len(s) <= 1:\n",
    "            return s\n",
    "\n",
    "        s = '#' + '#'.join(s) + '#'\n",
    "        dp = [0] * len(s)\n",
    "        center = 0\n",
    "        right = 0\n",
    "\n",
    "        # results\n",
    "        len_rsl = 1\n",
    "        max_rsl = s[0]\n",
    "\n",
    "        for i in range(len(s)):\n",
    "            mirror = ( center * 2 ) - i\n",
    "\n",
    "            if i < center:\n",
    "                dp[i] = min((right - i, dp[mirror]))\n",
    "\n",
    "            expand_a = i + dp[i] + 1\n",
    "            expand_b = i - dp[i] - 1\n",
    "\n",
    "            while expand_a < len(s) and expand_b >= 0 and s[expand_a] == s[expand_b]:\n",
    "                dp[i] += 1\n",
    "                expand_a += 1\n",
    "                expand_b -= 1\n",
    "            \n",
    "            if i+dp[i] > right:\n",
    "                center = i\n",
    "                right = i + dp[i]\n",
    "            if dp[i] > len_rsl:\n",
    "                len_rsl = dp[i]\n",
    "                max_rsl = s[i-dp[i]:i+dp[i]+1].replace('#', '')\n",
    "        return max_rsl\n",
    "\n",
    "Solution().longestPalindrome(\"babad\")"
   ]
  },
  {
   "cell_type": "code",
   "execution_count": 9,
   "metadata": {},
   "outputs": [
    {
     "name": "stdout",
     "output_type": "stream",
     "text": [
      "[[0, 1, 2, 3], [1, 0, 1, 2], [2, 1, 0, 1], [3, 2, 1, 0]]\n"
     ]
    }
   ],
   "source": [
    "if __name__ == '__main__':\n",
    "    n = int(input(\"Digite o tamanho da matriz\"))\n",
    "\n",
    "    matriz = []\n",
    "    one_position = 0\n",
    "\n",
    "    for i in range(n):\n",
    "        line = [abs(one_position - j) for j in range(n)]\n",
    "        matriz.append(line)\n",
    "        one_position += 1\n",
    "\n",
    "    print(matriz)\n"
   ]
  }
 ],
 "metadata": {
  "kernelspec": {
   "display_name": "Python 3",
   "language": "python",
   "name": "python3"
  },
  "language_info": {
   "codemirror_mode": {
    "name": "ipython",
    "version": 3
   },
   "file_extension": ".py",
   "mimetype": "text/x-python",
   "name": "python",
   "nbconvert_exporter": "python",
   "pygments_lexer": "ipython3",
   "version": "3.10.6"
  }
 },
 "nbformat": 4,
 "nbformat_minor": 2
}
