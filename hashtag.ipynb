{
 "cells": [
  {
   "cell_type": "markdown",
   "metadata": {},
   "source": [
    "# HashTag Course"
   ]
  },
  {
   "cell_type": "code",
   "execution_count": 3,
   "metadata": {},
   "outputs": [
    {
     "name": "stdout",
     "output_type": "stream",
     "text": [
      "1941801504112309299\n"
     ]
    }
   ],
   "source": [
    "user_response =  input(\"Enter a string: \")\n",
    "print(hash(user_response))"
   ]
  },
  {
   "cell_type": "markdown",
   "metadata": {},
   "source": [
    "Format is good when you have a lot variables with differents types."
   ]
  },
  {
   "cell_type": "code",
   "execution_count": 4,
   "metadata": {},
   "outputs": [
    {
     "name": "stdout",
     "output_type": "stream",
     "text": [
      "O faturamento da loja foi 1000. O custo da loja foi 500. O lucro da loja foi 500.\n"
     ]
    }
   ],
   "source": [
    "faturamento = 1000\n",
    "custo = 500\n",
    "lucro = faturamento - custo\n",
    "\n",
    "print(\"O faturamento da loja foi {}. O custo da loja foi {}. O lucro da loja foi {}.\".format(faturamento, custo, lucro))"
   ]
  },
  {
   "cell_type": "markdown",
   "metadata": {},
   "source": [
    "## Module 7: String\n",
    "\n",
    "Sheet Cheat: https://www.pythoncheatsheet.org/cheatsheet/manipulating-strings\n",
    "\n",
    "### String Methods\n",
    "- capitalize(): Converts the first character to upper case.\n",
    "- lower(): Converts a string into lower case.\n",
    "- upper(): Converts a string into upper case.\n",
    "- title(): Converts the first character of each word to upper case.\n",
    "- strip(): Returns a trimmed version of the string.\n",
    "- split(): Splits the string at the specified separator and returns a list of substrings.\n",
    "- replace(): Replaces a specified phrase with another specified phrase.\n",
    "- find(): Searches the string for a specified value and returns the position of where it was found.\n",
    "- format(): Formats specified values in a string.\n",
    "- join(): Joins the elements of an iterable to the end of the string.\n",
    "- count(): Returns the number of times a specified value occurs in a string.\n",
    "- startswith(): Returns True if the string starts with the specified value.\n",
    "- endswith(): Returns True if the string ends with the specified value.\n",
    "- isnumeric(): Returns True if all characters in the string are numeric.\n",
    "- isalpha(): Returns True if all characters in the string are in the alphabet.\n",
    "- isalnum(): Returns True if all characters in the string are alphanumeric (either alphabets or numbers).\n",
    "- isspace(): Returns True if all characters in the string are whitespaces.\n",
    "\n",
    "### Format Options String\n",
    "Width - Specify the width of the field:\n",
    "\n",
    "Precision - Specify the number of decimal places:\n",
    "\n",
    "Type - Specify the type of the data. For example, b for binary, e for exponent, f for float, etc.:\n",
    "\n",
    "Alignment - Specify the alignment of the text. < for left-align, > for right-align, ^ for center:\n",
    "\n",
    "Sign - Specify the sign for numeric types. + for both positive and negative numbers, - for negative numbers only (default), (space) for a leading space for positive numbers:\n",
    "\n",
    "Zero padding - Add zeros instead of spaces:\n",
    "\n",
    "Thousands separator - Add a comma as a thousands separator:"
   ]
  },
  {
   "cell_type": "markdown",
   "metadata": {},
   "source": []
  },
  {
   "cell_type": "code",
   "execution_count": 22,
   "metadata": {},
   "outputs": [
    {
     "name": "stdout",
     "output_type": "stream",
     "text": [
      "2.34\n",
      "1,000,000\n",
      "b'Python, is cool'\n",
      "Python, is cool\n",
      "('Python', ',', ' is cool')\n",
      "00000Python, is cool\n"
     ]
    }
   ],
   "source": [
    "import pandas as pd\n",
    "# just need to remember metods for string,\n",
    "\n",
    "values = {'name': 'John', 'age': 30}\n",
    "\n",
    "string_test = 2.341123\n",
    "print(f\"{string_test:.2f}\")\n",
    "number_test =  1000000\n",
    "print(f\"{number_test:,}\")\n",
    "\n",
    "string_test = \"Python, is cool\"\n",
    "print(string_test.encode())\n",
    "print(string_test.format_map(\",\"))\n",
    "print(string_test.rpartition(\",\")) #partition and split are similar, but partition returns a tuple with the string split in 3 parts\n",
    "print(string_test.zfill(20))"
   ]
  },
  {
   "cell_type": "code",
   "execution_count": 23,
   "metadata": {},
   "outputs": [
    {
     "name": "stdout",
     "output_type": "stream",
     "text": [
      "{'january': 100, 'february': 200, 'march': 300}\n"
     ]
    }
   ],
   "source": [
    "prices =  \"january: 100, february: 200, march: 300\"\n",
    "\n",
    "pairs = prices.split(\", \")\n",
    "\n",
    "# Create a dictionary from the pairs\n",
    "prices_dict = {}\n",
    "for pair in pairs:\n",
    "    key, value = pair.split(\": \")\n",
    "    prices_dict[key] = int(value)\n",
    "\n",
    "print(prices_dict)"
   ]
  },
  {
   "cell_type": "code",
   "execution_count": 1,
   "metadata": {},
   "outputs": [
    {
     "name": "stdout",
     "output_type": "stream",
     "text": [
      "0\n",
      "1\n",
      "2\n",
      "4\n"
     ]
    }
   ],
   "source": [
    "for i in range(10):\n",
    "    if i == 5:\n",
    "        break\n",
    "    elif i == 3:\n",
    "        continue\n",
    "    print(i)\n"
   ]
  },
  {
   "cell_type": "markdown",
   "metadata": {},
   "source": [
    "# 8 - Listas Python - Métodos e Usos"
   ]
  },
  {
   "cell_type": "code",
   "execution_count": 2,
   "metadata": {},
   "outputs": [],
   "source": [
    "produtos = [\n",
    "    \"arroz\",\n",
    "    \"feijão\",\n",
    "    \"macarrão\",\n",
    "    \"carne\",\n",
    "    \"frango\",\n",
    "    \"peixe\",\n",
    "    \"ovos\",\n",
    "    \"leite\",\n",
    "    \"queijo\",\n",
    "    \"presunto\",\n",
    "    \"mortadela\",\n",
    "    \"salame\",\n",
    "    \"pão\",\n",
    "    \"manteiga\",\n",
    "    \"margarina\",\n",
    "    \"açúcar\",\n",
    "    \"café\",\n",
    "    \"chá\",\n",
    "    \"chocolate\",\n",
    "    \"refrigerante\",\n",
    "    \"cerveja\",\n",
    "    \"vinho\",\n",
    "    \"whisky\",\n",
    "    \"vodka\",\n",
    "    \"cachaça\",\n",
    "    \"rum\",\n",
    "    \"tequila\",\n",
    "    \"licor\",\n",
    "    \"conhaque\",\n",
    "    \"água\",\n",
    "    \"suco\",\n",
    "    \"refresco\",\n",
    "    \"energético\",\n",
    "    \"iogurte\",\n",
    "    \"sorvete\",\n",
    "    \"sorvete\",\n",
    "    \"pipoca\",\n",
    "    \"salgadinho\",\n",
    "    \"biscoito\",\n",
    "    \"bolacha\",\n",
    "    \"pão de queijo\",\n",
    "    \"tapioca\",\n",
    "    \"crepioca\",\n",
    "    \"pão de mel\",\n",
    "    \"pão de ló\",\n",
    "]\n",
    "\n"
   ]
  },
  {
   "cell_type": "markdown",
   "metadata": {},
   "source": [
    "List is a mutable and ordered collection of items. Lists are defined by having values between square brackets [ ].\n",
    "\n",
    "String is a immutable and ordered collection of items. Strings are defined by having values between quotes ' ' or \" \". But can use replace for change the value, create a new string with the change."
   ]
  },
  {
   "cell_type": "code",
   "execution_count": 3,
   "metadata": {},
   "outputs": [
    {
     "name": "stdout",
     "output_type": "stream",
     "text": [
      "The product tapioca is in the list at index 41\n"
     ]
    }
   ],
   "source": [
    "product = input(\"Enter a product: \")\n",
    "if index :=  produtos.index(product):\n",
    "    print(f\"The product {product} is in the list at index {index}\")\n",
    "else:\n",
    "    print(f\"The product {product} is not in the list\")\n"
   ]
  },
  {
   "cell_type": "code",
   "execution_count": 5,
   "metadata": {},
   "outputs": [
    {
     "name": "stdout",
     "output_type": "stream",
     "text": [
      "['arroz', 'feijão', 'macarrão', 'carne', 'frango', 'peixe', 'ovos', 'leite', 'queijo', 'presunto', 'mortadela', 'salame', 'manteiga', 'margarina', 'açúcar', 'café', 'chá', 'chocolate', 'refrigerante', 'cerveja', 'vinho', 'whisky', 'vodka', 'cachaça', 'rum', 'tequila', 'licor', 'conhaque', 'água', 'suco', 'refresco', 'energético', 'iogurte', 'sorvete', 'sorvete', 'pipoca', 'salgadinho', 'biscoito', 'bolacha', 'pão de queijo', 'tapioca', 'crepioca', 'pão de mel', 'pão de ló']\n",
      "list.remove(x): x not in list\n"
     ]
    }
   ],
   "source": [
    "# pop is a method that removes the last element of a list with index and remove is a method that removes a element by value\n",
    "produtos.remove(\"pão\") if \"pão\" in produtos else None\n",
    "print(produtos)\n",
    "\n",
    "try:\n",
    "    produtos.remove(\"pão\")\n",
    "except ValueError:\n",
    "    pass"
   ]
  },
  {
   "cell_type": "code",
   "execution_count": 7,
   "metadata": {},
   "outputs": [
    {
     "data": {
      "text/plain": [
       "['geladeira',\n",
       " 'iphone',\n",
       " 'casa',\n",
       " 'carro',\n",
       " 'moto',\n",
       " 'bicicleta',\n",
       " 'moto',\n",
       " 'carro',\n",
       " 'casa',\n",
       " 'iphone',\n",
       " 'geladeira']"
      ]
     },
     "execution_count": 7,
     "metadata": {},
     "output_type": "execute_result"
    }
   ],
   "source": [
    "produtos_2 = [\"Geladeira\", \"iphone\", \"CASA\", \"CARRO\", \"MOTO\", \"BICICLETA\", \"MOTO\", \"CARRO\", \"CASA\", \"iphone\", \"Geladeira\"]\n",
    "produtos_2 = [produto.lower() for produto in produtos_2]\n",
    "produtos_2"
   ]
  },
  {
   "cell_type": "code",
   "execution_count": 12,
   "metadata": {},
   "outputs": [
    {
     "name": "stdout",
     "output_type": "stream",
     "text": [
      "{' ', 'n', 'r', 'i', 's', 'b', 'h', 'a', 'f', 't'}\n"
     ]
    }
   ],
   "source": [
    "unique_string =  \"batatinhas fritas\"\n",
    "print(set(unique_string))"
   ]
  },
  {
   "cell_type": "markdown",
   "metadata": {},
   "source": [
    "In python, list isent a imuatable object, so you can change the value of the list. But in when you do list1 = list2, you are creating a reference to the list2, so when you change the list1, the list2 will change too because they are in same memory space."
   ]
  },
  {
   "cell_type": "markdown",
   "metadata": {},
   "source": [
    "# 12 Dicionários Python - Métodos e Usos"
   ]
  },
  {
   "cell_type": "code",
   "execution_count": 2,
   "metadata": {},
   "outputs": [
    {
     "name": "stdout",
     "output_type": "stream",
     "text": [
      "None\n",
      "Key not found\n"
     ]
    }
   ],
   "source": [
    "# handling dict without key\n",
    "dict_test = {\"name\": \"John\", \"age\": 30}\n",
    "key = \"batata\"\n",
    "\n",
    "print(dict_test.get(key, \"Key not found\"))\n",
    "\n",
    "print(dict_test[key]) if key in dict_test else print(\"Key not found\")\n"
   ]
  },
  {
   "cell_type": "code",
   "execution_count": 5,
   "metadata": {},
   "outputs": [
    {
     "name": "stdout",
     "output_type": "stream",
     "text": [
      "{'name': 'John', 'age': 30, 'city': 'New York'}\n",
      "New York\n",
      "None\n"
     ]
    }
   ],
   "source": [
    "# handling upadate dict\n",
    "\n",
    "dict_1 = {\"name\": \"John\", \"age\": 30}\n",
    "dict_2 = {\"city\": \"New York\"}\n",
    "\n",
    "dict_1.update(dict_2)\n",
    "print(dict_1)\n",
    "\n",
    "print(pop_test := dict_1.pop(\"city\", \"Key not found\"))\n",
    "\n",
    "print(dict_1.clear())"
   ]
  },
  {
   "cell_type": "code",
   "execution_count": 17,
   "metadata": {},
   "outputs": [
    {
     "name": "stdout",
     "output_type": "stream",
     "text": [
      "John\n",
      "30\n",
      "New York\n",
      "name John\n",
      "age 35\n",
      "occupation Software Engineer\n",
      "name John\n",
      "age 35\n",
      "occupation Software Engineer\n",
      "dict_keys(['name', 'age', 'occupation'])\n",
      "dict_values(['John', 35, 'Software Engineer'])\n",
      "['name', 'age', 'occupation']\n",
      "name: John\n",
      "age: 35\n",
      "occupation: Software Engineer\n",
      "dict_items([('name', 'John'), ('age', 35), ('occupation', 'Software Engineer')])\n"
     ]
    }
   ],
   "source": [
    "# Define a dictionary\n",
    "person = {\n",
    "    \"name\": \"John\",\n",
    "    \"age\": 30,\n",
    "    \"city\": \"New York\"\n",
    "}\n",
    "\n",
    "# Accessing dictionary values\n",
    "print(person[\"name\"])  # Output: John\n",
    "print(person[\"age\"])   # Output: 30\n",
    "print(person[\"city\"])  # Output: New York\n",
    "\n",
    "# Modifying dictionary values\n",
    "person[\"age\"] = 35\n",
    "person[\"city\"] = \"San Francisco\"\n",
    "\n",
    "# Adding new key-value pairs\n",
    "person[\"occupation\"] = \"Software Engineer\"\n",
    "\n",
    "# Removing a key-value pair\n",
    "del person[\"city\"]\n",
    "\n",
    "# Iterating over dictionary items\n",
    "for key, value in person.items():\n",
    "    print(key, value)\n",
    "\n",
    "\n",
    "for key, value in person.items():\n",
    "    print(key, value)\n",
    "\n",
    "print(person.keys())\n",
    "print(person.values())\n",
    "print(list(person))\n",
    "\n",
    "data_person = list(person.keys())\n",
    "data_person.sort()\n",
    "\n",
    "for chave in person:\n",
    "    print(f'{chave}: {person[chave]}')\n",
    "\n",
    "person_items = list(person.items())\n",
    "print(person_items)\n"
   ]
  },
  {
   "cell_type": "code",
   "execution_count": 16,
   "metadata": {},
   "outputs": [
    {
     "name": "stdout",
     "output_type": "stream",
     "text": [
      "{'iphone': 15000, 'samsung galaxy': 12000, 'tv samsung': 10000, 'ps5': 14300, 'tablet': 1720, 'ipad': 1000, 'tv philco': 2500, 'notebook hp': 1000, 'notebook dell': 17000, 'notebook asus': 2450}\n"
     ]
    }
   ],
   "source": [
    "produtos = ['iphone', 'samsung galaxy', 'tv samsung', 'ps5', 'tablet', 'ipad', 'tv philco', 'notebook hp', 'notebook dell', 'notebook asus']\n",
    "vendas = [15000, 12000, 10000, 14300, 1720, 1000, 2500, 1000, 17000, 2450]\n",
    "\n",
    "list_tuple = zip(produtos, vendas)\n",
    "list_dict = dict(list_tuple)\n",
    "\n",
    "print(list_dict)"
   ]
  },
  {
   "cell_type": "markdown",
   "metadata": {},
   "source": [
    "# 13 - Iterable"
   ]
  },
  {
   "cell_type": "code",
   "execution_count": 18,
   "metadata": {},
   "outputs": [
    {
     "name": "stdout",
     "output_type": "stream",
     "text": [
      "range(0, 5)\n"
     ]
    }
   ],
   "source": [
    "# range\n",
    "test_range = range(5)\n",
    "print(test_range)\n",
    "\n",
    "# set\n",
    "cpf_clientes = ['762.196.080-97', '263.027.380-67', '827.363.930-40', '925.413.640-91', '870.565.160-33', '892.080.930-50', '462.126.030-81', '393.462.330-10', '393.462.330-10', '393.462.330-10', '988.305.810-11', '596.125.830-05', '596.125.830-05', '990.236.770-48']\n",
    "\n",
    "set_cpf_clientes = set(cpf_clientes)\n",
    "cpf_clientes_unicos = list(set_cpf_clientes)\n",
    "print(cpf_clientes_unicos)\n",
    "print('Temos {} clientes na loja'.format(len(set_cpf_clientes)))"
   ]
  },
  {
   "cell_type": "code",
   "execution_count": 1,
   "metadata": {},
   "outputs": [
    {
     "name": "stdout",
     "output_type": "stream",
     "text": [
      "139909840118960\n"
     ]
    }
   ],
   "source": [
    "banana = \"banana\"\n",
    "print(id(banana))"
   ]
  },
  {
   "cell_type": "markdown",
   "metadata": {},
   "source": [
    "# 14 - Funções"
   ]
  },
  {
   "cell_type": "code",
   "execution_count": 5,
   "metadata": {},
   "outputs": [
    {
     "name": "stdout",
     "output_type": "stream",
     "text": [
      "Product Taxes: 20 %\n"
     ]
    }
   ],
   "source": [
    "from typing import Dict\n",
    "\n",
    "def tax_calc_percent(products_data: Dict) -> int:\n",
    "    tax_value = products_data['price'] - (products_data['cost'] + products_data['profit'])\n",
    "    return tax_value*100 / products_data['price'] \n",
    "\n",
    "\n",
    "if __name__ ==  \"__main__\":\n",
    "    products_data = {\"price\":1500, \"cost\": 400, \"profit\":800}\n",
    "\n",
    "    print(f\"Product Taxes: {tax_calc_percent(products_data):.0f} %\")"
   ]
  },
  {
   "cell_type": "code",
   "execution_count": 10,
   "metadata": {},
   "outputs": [
    {
     "name": "stdout",
     "output_type": "stream",
     "text": [
      "7.7%\n"
     ]
    }
   ],
   "source": [
    "def stockout_loss(vendas: Dict[str, tuple]) -> float:\n",
    "    stockout_loss = 0\n",
    "    completed_sale = 0\n",
    "\n",
    "    for sale in vendas.values():\n",
    "        value, status, reason = sale\n",
    "        stockout_loss += value if status == \"Cancelado\" and reason == \"Estoque em Falta\" else 0\n",
    "        completed_sale += value if status == \"Concluído\" else 0\n",
    "    return stockout_loss / (completed_sale + stockout_loss)\n",
    "\n",
    "if __name__ == \"__main__\":\n",
    "    vendas = {'VE0001': (9868,'Concluído',''),'VE0002': (9642,'Concluído',''),'VE0003': (6007,'Concluído',''),'VE0004': (15562,'Concluído',''),'VE0005': (18752,'Cancelado','Estoque em Falta'),'VE0006': (16358,'Cancelado','Estoque em Falta'),'VE0007': (17045,'Concluído',''),'VE0008': (12230,'Concluído',''),'VE0009': (6747,'Concluído',''),'VE0010': (15114,'Concluído',''),'VE0011': (12497,'Concluído',''),'VE0012': (6001,'Concluído',''),'VE0013': (16227,'Cancelado','Cancelada pelo Cliente'),'VE0014': (16150,'Concluído',''),'VE0015': (17705,'Concluído',''),'VE0016': (9978,'Concluído',''),'VE0017': (4266,'Concluído',''),'VE0018': (11531,'Concluído',''),'VE0019': (10352,'Cancelado','Cancelada pelo Cliente'),'VE0020': (16544,'Concluído',''),'VE0021': (15488,'Concluído',''),'VE0022': (15828,'Concluído',''),'VE0023': (1218,'Concluído',''),'VE0024': (11560,'Concluído',''),'VE0025': (14220,'Concluído',''),'VE0026': (17839,'Concluído',''),'VE0027': (4050,'Concluído',''),'VE0028': (7594,'Cancelado','Estoque em Falta'),'VE0029': (19586,'Concluído',''),'VE0030': (8453,'Concluído',''),'VE0031': (3589,'Concluído',''),'VE0032': (13472,'Cancelado','Cancelada pelo Cliente'),'VE0033': (16994,'Concluído',''),'VE0034': (2139,'Concluído',''),'VE0035': (10173,'Concluído',''),'VE0036': (17784,'Cancelado','Estoque em Falta'),'VE0037': (12214,'Concluído',''),'VE0038': (5878,'Concluído',''),'VE0039': (2622,'Concluído',''),'VE0040': (9765,'Concluído',''),'VE0041': (8872,'Concluído',''),'VE0042': (16543,'Concluído',''),'VE0043': (8994,'Concluído',''),'VE0044': (4332,'Concluído',''),'VE0045': (19679,'Concluído',''),'VE0046': (14968,'Concluído',''),'VE0047': (6352,'Concluído',''),'VE0048': (11461,'Concluído',''),'VE0049': (5285,'Concluído',''),'VE0050': (11639,'Concluído',''),'VE0051': (6023,'Concluído',''),'VE0052': (4943,'Concluído',''),'VE0053': (5654,'Concluído',''),'VE0054': (11734,'Concluído',''),'VE0055': (2742,'Concluído',''),'VE0056': (5380,'Cancelado','Estoque em Falta'),'VE0057': (5578,'Concluído',''),'VE0058': (1897,'Concluído',''),'VE0059': (7857,'Concluído',''),'VE0060': (4472,'Concluído',''),'VE0061': (19874,'Concluído',''),'VE0062': (13323,'Cancelado','Cancelada pelo Cliente'),'VE0063': (5821,'Concluído',''),'VE0064': (4410,'Concluído',''),'VE0065': (16676,'Concluído',''),'VE0066': (10577,'Concluído',''),'VE0067': (10627,'Concluído',''),'VE0068': (1987,'Concluído',''),'VE0069': (13197,'Concluído',''),'VE0070': (15063,'Concluído',''),'VE0071': (14363,'Concluído',''),'VE0072': (10452,'Concluído',''),'VE0073': (15376,'Concluído',''),'VE0074': (4661,'Concluído',''),'VE0075': (13287,'Concluído',''),'VE0076': (8278,'Concluído',''),'VE0077': (7134,'Concluído',''),'VE0078': (16568,'Concluído',''),'VE0079': (17732,'Concluído',''),'VE0080': (5127,'Concluído',''),'VE0081': (4582,'Concluído',''),'VE0082': (14804,'Cancelado','Cancelada pelo Cliente'),'VE0083': (12362,'Concluído',''),'VE0084': (1148,'Concluído',''),'VE0085': (14018,'Concluído',''),'VE0086': (15891,'Concluído',''),'VE0087': (4517,'Concluído',''),'VE0088': (1770,'Concluído',''),'VE0089': (14926,'Concluído',''),'VE0090': (13627,'Concluído',''),'VE0091': (3047,'Concluído',''),'VE0092': (13924,'Concluído',''),'VE0093': (7158,'Concluído',''),'VE0094': (5942,'Concluído',''),'VE0095': (13480,'Concluído',''),'VE0096': (17686,'Concluído',''),'VE0097': (5722,'Cancelado','Cancelada pelo Cliente'),'VE0098': (16963,'Concluído',''),'VE0099': (14225,'Concluído',''),'VE0100': (12553,'Concluído',''),'VE0101': (18047,'Concluído',''),'VE0102': (11420,'Concluído',''),'VE0103': (6191,'Concluído',''),'VE0104': (8388,'Concluído',''),'VE0105': (17210,'Concluído',''),'VE0106': (12217,'Concluído',''),'VE0107': (8984,'Concluído',''),'VE0108': (7638,'Cancelado','Cancelada pelo Cliente'),'VE0109': (8462,'Concluído',''),'VE0110': (14081,'Concluído',''),'VE0111': (10842,'Concluído',''),'VE0112': (13261,'Concluído',''),'VE0113': (16953,'Cancelado','Estoque em Falta'),'VE0114': (5343,'Concluído',''),'VE0115': (4734,'Concluído',''),'VE0116': (13606,'Cancelado','Cancelada pelo Cliente'),'VE0117': (17106,'Cancelado','Estoque em Falta'),'VE0118': (17704,'Concluído',''),'VE0119': (12242,'Concluído',''),'VE0120': (7476,'Cancelado','Estoque em Falta'),'VE0121': (18408,'Concluído',''),'VE0122': (13612,'Concluído',''),'VE0123': (18198,'Concluído',''),'VE0124': (4844,'Concluído',''),'VE0125': (12750,'Concluído',''),'VE0126': (11969,'Concluído',''),'VE0127': (15337,'Concluído',''),'VE0128': (1100,'Concluído',''),'VE0129': (18893,'Concluído',''),'VE0130': (15850,'Concluído',''),'VE0131': (2097,'Concluído',''),'VE0132': (11636,'Cancelado','Estoque em Falta'),'VE0133': (12603,'Concluído',''),'VE0134': (10769,'Concluído',''),'VE0135': (11016,'Concluído',''),'VE0136': (14556,'Concluído',''),'VE0137': (1389,'Concluído',''),'VE0138': (11681,'Concluído',''),'VE0139': (16759,'Cancelado','Cancelada pelo Cliente'),'VE0140': (16317,'Concluído',''),'VE0141': (5965,'Concluído',''),'VE0142': (4493,'Concluído',''),'VE0143': (5398,'Concluído',''),'VE0144': (9875,'Concluído',''),'VE0145': (17492,'Concluído',''),'VE0146': (7473,'Concluído',''),'VE0147': (10284,'Concluído',''),'VE0148': (10778,'Concluído',''),'VE0149': (2227,'Concluído',''),'VE0150': (14157,'Concluído',''),'VE0151': (9516,'Concluído',''),'VE0152': (9824,'Concluído',''),'VE0153': (5118,'Concluído',''),'VE0154': (5123,'Concluído',''),'VE0155': (2697,'Concluído',''),'VE0156': (19024,'Concluído',''),'VE0157': (5128,'Concluído',''),'VE0158': (8293,'Cancelado','Estoque em Falta'),'VE0159': (18782,'Concluído',''),'VE0160': (12182,'Concluído',''),'VE0161': (9063,'Concluído',''),'VE0162': (17608,'Concluído',''),'VE0163': (8456,'Cancelado','Cancelada pelo Cliente'),'VE0164': (1291,'Concluído',''),'VE0165': (14018,'Concluído',''),'VE0166': (2791,'Concluído',''),'VE0167': (17953,'Concluído',''),'VE0168': (14627,'Concluído',''),'VE0169': (3296,'Concluído',''),'VE0170': (1863,'Concluído',''),'VE0171': (4719,'Concluído',''),'VE0172': (15060,'Concluído',''),'VE0173': (2596,'Cancelado','Cancelada pelo Cliente'),'VE0174': (4919,'Concluído',''),'VE0175': (13770,'Concluído',''),'VE0176': (15041,'Cancelado','Estoque em Falta'),'VE0177': (6702,'Concluído',''),'VE0178': (9989,'Concluído',''),'VE0179': (5135,'Concluído',''),'VE0180': (13337,'Concluído',''),'VE0181': (13457,'Concluído',''),'VE0182': (17218,'Concluído',''),'VE0183': (6424,'Concluído',''),'VE0184': (5478,'Concluído',''),'VE0185': (10478,'Cancelado','Cancelada pelo Cliente'),'VE0186': (3240,'Concluído',''),'VE0187': (16503,'Concluído',''),'VE0188': (12762,'Concluído',''),'VE0189': (6985,'Cancelado','Cancelada pelo Cliente'),'VE0190': (13013,'Concluído',''),'VE0191': (5706,'Concluído',''),'VE0192': (6521,'Cancelado','Estoque em Falta'),'VE0193': (12904,'Concluído',''),'VE0194': (14691,'Concluído',''),'VE0195': (19338,'Concluído',''),'VE0196': (4556,'Cancelado','Cancelada pelo Cliente'),'VE0197': (9653,'Concluído',''),'VE0198': (4617,'Concluído',''),'VE0199': (4717,'Concluído',''),'VE0200': (8366,'Concluído','')}\n",
    "    print (f\"{stockout_loss(vendas)*100:.1f}%\" )"
   ]
  },
  {
   "cell_type": "code",
   "execution_count": null,
   "metadata": {},
   "outputs": [],
   "source": [
    "\n",
    "\n",
    "if __name__ == \"__main__\":\n",
    "    precos_imoveis = [2.17,1.54,1.45,1.94,2.37,2.3,1.79,1.8,2.25,1.37,2.4,1.72,2,1.69,1.63,2.01,2.25,1.61,1.02,1.19,1.86,2.15,2.03,1.61,1.52,1.56,1.69,1.47,1.09,2.47,1.62,2.15,1.81,2.49,2.08,1.02,1.68,1.53,1.2,1.29,1.88,1.92,2.14,1.95,2.48,2.44,1.41,1.98,1.89,1.69,1.95,1.42,1.57,2.32,1.23,1.43,1.35,1.49,2.39,2.37,1.3,2.25,1.5,1.35,2.06,1.05,1.7,2.29,2.44,2.09,1.81,2.04,2.45,1.42,2.09,2.19,2.09,1,2.23,1.39,2,1.29,1.55,1.67,2.06,1.89,2.07,2.39,1.93,1.51,1.73,1.66,1.18,1.13,1.69,2.48,1.26,1.75, 1.51, 1.73]\n",
    "    tamanho_imoveis = [207,148,130,203,257,228,160,194,232,147,222,165,184,175,147,217,214,171,86,111,180,211,210,168,156,154,179,163,99,246,162,205,195,263,198,121,149,140,122,119,197,210,218,202,258,256,135,203,173,152,197,145,154,252,141,141,151,133,232,229,134,215,155,138,186,120,152,213,256,219,200,210,238,140,224,233,222,120,233,151,185,111,149,186,194,194,222,223,185,157,154,164,129,128,169,240,136,191, 157, 154]\n",
    "\n",
    "    factor = 0.1\n",
    "    i:int = int((1 - factor) * len(precos_imoveis))\n",
    "\n",
    "    train = precos_imoveis[:i]\n",
    "    test = precos_imoveis[i:]"
   ]
  },
  {
   "cell_type": "code",
   "execution_count": null,
   "metadata": {},
   "outputs": [],
   "source": [
    "def docstring_annotation(value:int)->Dict:\n",
    "    '''Do something'''\n",
    "\n",
    "    return {\"value\": value}\n",
    "\n",
    "# def minha_funcao(arg1, arg2, arg3, arg4, *args, k = kwarg1, k2 = kwarg2, k3 = kwarg3, **kwargs):\n"
   ]
  },
  {
   "cell_type": "markdown",
   "metadata": {},
   "source": [
    "# Modulos, Bibliotecas e Introduçao a orientaçao a objeto"
   ]
  },
  {
   "cell_type": "markdown",
   "metadata": {},
   "source": [
    "[Link for Time lib reference](https://www.geeksforgeeks.org/python-time-module/)\n",
    "\n",
    "[Python Scape Characters](https://www.w3schools.com/python/gloss_python_escape_characters.asp)"
   ]
  },
  {
   "cell_type": "code",
   "execution_count": 6,
   "metadata": {},
   "outputs": [
    {
     "name": "stdout",
     "output_type": "stream",
     "text": [
      "2023-06-26 15:30:20\n",
      "15\n"
     ]
    }
   ],
   "source": [
    "from datetime import datetime\n",
    "\n",
    "data = datetime.now()\n",
    "print(datetime.fromisoformat('2023-06-26 15:30:20'))\n",
    "\n",
    "print(data.hour)"
   ]
  }
 ],
 "metadata": {
  "kernelspec": {
   "display_name": "Python 3",
   "language": "python",
   "name": "python3"
  },
  "language_info": {
   "codemirror_mode": {
    "name": "ipython",
    "version": 3
   },
   "file_extension": ".py",
   "mimetype": "text/x-python",
   "name": "python",
   "nbconvert_exporter": "python",
   "pygments_lexer": "ipython3",
   "version": "3.10.6"
  }
 },
 "nbformat": 4,
 "nbformat_minor": 2
}
