{
  "cells": [
    {
      "cell_type": "markdown",
      "metadata": {
        "id": "r0WpWpygRnTv"
      },
      "source": [
        "# Conjuntos - Notebook 2\n",
        "\n",
        "Este material foi adaptado a partir dos materiais desenvolvidos pelos professores Gabriel Lavoura e Marcelo Malheiros."
      ]
    },
    {
      "cell_type": "markdown",
      "metadata": {
        "id": "6gZ_L8ytUOXz"
      },
      "source": [
        "## Instruções\n",
        "\n",
        "- IMPORTANTE: primeiro clique no círculo preto com a seta branca abaixo.\n",
        "\n",
        "- Faça as atividades em sequência, escrevendo um trecho de código em cada célula para obter o resultado esperado.\n",
        "\n",
        "- Use **SHIFT + ENTER** para executar o código. O resultado será exibido logo abaixo.\n",
        "\n",
        "- Então valide o resultado com **SHIFT + ENTER** novamente, na célula que contém o comando **validar()**. Não remova ou altere esta linha."
      ]
    },
    {
      "cell_type": "code",
      "execution_count": 1,
      "metadata": {
        "id": "GoSb_6yyujWG"
      },
      "outputs": [
        {
          "name": "stderr",
          "output_type": "stream",
          "text": [
            "/tmp/ipykernel_31266/356270386.py:6: DeprecationWarning: Importing display from IPython.core.display is deprecated since IPython 7.14, please import from IPython display\n",
            "  from IPython.core.display import display, HTML\n"
          ]
        }
      ],
      "source": [
        "# Não se preocupe com este código. E nem faça alterações nele, por favor.\n",
        "\n",
        "import builtins\n",
        "import io\n",
        "\n",
        "from IPython.core.display import display, HTML\n",
        "\n",
        "# practice core v4\n",
        "\n",
        "_INPUT = []\n",
        "_PRINT = []\n",
        "\n",
        "def input(*args, **kwargs):\n",
        "    s = builtins.input(*args, **kwargs)\n",
        "    _INPUT.append(s)\n",
        "    return s\n",
        "\n",
        "def print(*args, **kwargs):\n",
        "    s = _sprint(*args, **kwargs)\n",
        "    _PRINT.append(s)\n",
        "    return builtins.print(s)\n",
        "\n",
        "def _sprint(*args, end='', **kwargs):\n",
        "    sio = io.StringIO()\n",
        "    builtins.print(*args, **kwargs, end=end, file=sio)\n",
        "    return sio.getvalue()\n",
        "\n",
        "def _correct(msg='Correto!'):\n",
        "    display(HTML(f'<p style=\"background-color: LawnGreen; padding: 8px 8px 8px 8px;\"><b>{msg}</b></p>'))\n",
        "\n",
        "def _incorrect(msg):\n",
        "    display(HTML(f'<p style=\"background-color: Tomato; padding: 8px 8px 8px 8px;\">{msg}</p>'))\n",
        "\n",
        "def _hint(msg):\n",
        "    display(HTML(f'<p style=\"background-color: LightBlue; padding: 8px 8px 8px 8px;\">{msg}</p>'))\n",
        "\n",
        "def _out(value): # expects a single value to be matched against the last cell result\n",
        "    if repr(_) == repr(value):\n",
        "        return 0\n",
        "\n",
        "    if _ == '':\n",
        "        _incorrect('Não houve resultado, verifique se você executou seu código com SHIFT+ENTER.')\n",
        "        return 1\n",
        "\n",
        "    if type(_) != type(value):\n",
        "        if type(value) == int:\n",
        "            _hint('Dica: o resultado precisa ser do tipo inteiro.')\n",
        "        elif type(value) == float:\n",
        "            _hint('Dica: o resultado precisa ser do tipo real.')\n",
        "        elif type(value) == bool:\n",
        "            _hint('Dica: o resultado precisa ser do tipo lógico.')\n",
        "        elif type(value) == str:\n",
        "            _hint('Dica: o resultado precisa ser do tipo string.')\n",
        "        elif type(value) == list:\n",
        "            _hint('Dica: o resultado precisa ser do tipo lista.')\n",
        "        elif type(value) == set:\n",
        "            _hint('Dica: o resultado precisa ser do tipo conjunto.')\n",
        "        else:\n",
        "            _hint('Dica: o resultado precisa ser de outro tipo.')\n",
        "    _incorrect('Resultado incorreto, tente novamente.')\n",
        "    return 1\n",
        "\n",
        "def _src(*args): # expects a list of strings to be matched against the last cell executed\n",
        "    result = 0\n",
        "    for term in args:\n",
        "        if term not in _i:\n",
        "            _hint(f'Dica: verifique se você usou \"{term}\" no seu código.')\n",
        "            result = 1\n",
        "    return result\n",
        "\n",
        "def _inp(*args): # expects a list of strings to be matched against the read input\n",
        "    if repr(_INPUT) == repr(list(args)):\n",
        "        return 0\n",
        "\n",
        "    if len(_INPUT) == 0:\n",
        "        _incorrect('Não houve entrada, verifique se você usou o comando \"input()\" no seu código.')\n",
        "        return 1\n",
        "\n",
        "    if len(_INPUT) != len(args):\n",
        "        if len(args) == 1:\n",
        "            _hint('Dica: é esperada apenas 1 entrada do usuário.')\n",
        "        else:\n",
        "            _hint(f'Dica: são esperadas {len(args)} entradas do usuário.')\n",
        "    else:\n",
        "        _incorrect('Entrada com dados diferentes do que foi solicitado, tente novamente.')\n",
        "    return 1\n",
        "\n",
        "def _pri(*args): # expects a list of strings to be matched against the printed output\n",
        "    if repr(_PRINT) == repr(list(args)):\n",
        "        return 0\n",
        "\n",
        "    if len(_PRINT) == 0:\n",
        "        _incorrect('Não houve saída, verifique se você usou o comando \"print()\" em seu código.')\n",
        "        return 1\n",
        "\n",
        "    if len(_PRINT) != len(args):\n",
        "        if len(args) == 1:\n",
        "            _hint('Dica: é esperada apenas 1 linha de saída.')\n",
        "        else:\n",
        "            _hint(f'Dica: são esperadas {len(args)} linhas de saída.')\n",
        "    else:\n",
        "        _incorrect('Saída incorreta, tente novamente.')\n",
        "    return 1\n",
        "\n",
        "def _var(**kwargs): # expects a dictionary of variable names and their respective values\n",
        "    result = 0\n",
        "    for name, value in kwargs.items():\n",
        "        if name not in globals():\n",
        "            _hint(f'Dica: a variável \"{name}\" precisa ser declarada.')\n",
        "            result = 1\n",
        "            continue\n",
        "\n",
        "        if repr(globals()[name]) == repr(value):\n",
        "            continue # OK by now\n",
        "\n",
        "        if type(globals()[name]) != type(value):\n",
        "            if type(value) == int:\n",
        "                _hint(f'Dica: a variável \"{name}\" precisa ser do tipo inteiro.')\n",
        "            elif type(value) == float:\n",
        "                _hint(f'Dica: a variável \"{name}\" precisa ser do tipo real.')\n",
        "            elif type(value) == bool:\n",
        "                _hint(f'Dica: a variável \"{name}\" precisa ser do tipo lógico.')\n",
        "            elif type(value) == str:\n",
        "                _hint(f'Dica: a variável \"{name}\" precisa ser do tipo string.')\n",
        "            elif type(value) == list:\n",
        "                _hint(f'Dica: a variável \"{name}\" precisa ser do tipo lista.')\n",
        "            elif type(value) == set:\n",
        "                _hint(f'Dica: a variável \"{name}\" precisa ser do tipo conjunto.')\n",
        "            else:\n",
        "                _hint(f'Dica: a variável \"{name}\" precisa ser de outro tipo.')\n",
        "        else:\n",
        "            _incorrect(f'Resultado incorreto para a variável \"{name}\".')\n",
        "        result = 1\n",
        "\n",
        "    return result\n",
        "\n",
        "def _typ(**kwargs): # expects a dictionary of variable names and their respective types\n",
        "    result = 0\n",
        "    for name, typ in kwargs.items():\n",
        "        if name not in globals():\n",
        "            _hint(f'Dica: a variável \"{name}\" precisa ser declarada.')\n",
        "            result = 1\n",
        "            continue\n",
        "\n",
        "        if type(globals()[name]) == typ:\n",
        "            continue # OK by now\n",
        "\n",
        "        if typ == int:\n",
        "            _hint(f'Dica: a variável \"{name}\" precisa ser do tipo inteiro.')\n",
        "        elif typ == float:\n",
        "            _hint(f'Dica: a variável \"{name}\" precisa ser do tipo real.')\n",
        "        elif typ == bool:\n",
        "            _hint(f'Dica: a variável \"{name}\" precisa ser do tipo lógico.')\n",
        "        elif typ == str:\n",
        "            _hint(f'Dica: a variável \"{name}\" precisa ser do tipo string.')\n",
        "        elif typ == list:\n",
        "            _hint(f'Dica: a variável \"{name}\" precisa ser do tipo lista.')\n",
        "        elif typ == set:\n",
        "            _hint(f'Dica: a variável \"{name}\" precisa ser do tipo conjunto.')\n",
        "        else:\n",
        "            _hint(f'Dica: a variável \"{name}\" precisa ser de outro tipo.')\n",
        "        result = 1\n",
        "\n",
        "    return result\n",
        "\n",
        "def _def(function, *args): # expects a function name and optionally the parameter names\n",
        "    if function not in globals() or not callable(globals()[function]):\n",
        "        _hint(f'Dica: a função \"{function}\" precisa ser declarada.')\n",
        "        return 1\n",
        "    func = globals()[function]\n",
        "\n",
        "    if len(args) != func.__code__.co_argcount:\n",
        "        if len(args) == 0:\n",
        "            _hint(f'Dica: a função \"{function}\" não deve ter parâmetros.')\n",
        "        elif len(args) == 1:\n",
        "            _hint(f'Dica: a função \"{function}\" deve ter 1 parâmetro.')\n",
        "        else:\n",
        "            _hint(f'Dica: a função \"{function}\" deve ter {len(args)} parâmetros.')\n",
        "        return 1\n",
        "\n",
        "    result = 0\n",
        "    for name in args:\n",
        "        if name not in func.__code__.co_varnames:\n",
        "            _hint(f'Dica: o parâmetro \"{name}\" precisa ser declarado na função \"{function}\".')\n",
        "            result = 1\n",
        "\n",
        "    return result\n",
        "\n",
        "def _clear():\n",
        "    global _INPUT, _PRINT\n",
        "    _INPUT = []\n",
        "    _PRINT = []\n",
        "    for name in set(globals()) - _GLOBALS:\n",
        "        if not name.startswith('_'):\n",
        "            globals().pop(name)\n",
        "\n",
        "def validar(n=None):\n",
        "    if n == None:\n",
        "        _incorrect('O comando \"validar\" precisa indicar o número da atividade atual.')\n",
        "    else:\n",
        "        r = _test(n)\n",
        "        if r == 0:\n",
        "            _correct()\n",
        "        elif r == -1:\n",
        "            _incorrect('Número de atividade desconhecido.')\n",
        "    _clear()\n",
        "\n",
        "_GLOBALS = set(globals())\n",
        "_GLOBALS.add('_GLOBALS')\n",
        "_GLOBALS.add('_test')"
      ]
    },
    {
      "cell_type": "code",
      "execution_count": 2,
      "metadata": {
        "id": "2mi_jwCBZSVh"
      },
      "outputs": [],
      "source": [
        "def _test(n):\n",
        "    if   n ==  1: return _var(A={0, 1, 2, 3, 4})\n",
        "    elif n ==  2: return _var(A={-1, 0, 1})\n",
        "    elif n ==  3: return _var(B={4, 5}) + _src('in') + _pri('True')\n",
        "    elif n ==  4: return _var(B={4, 5}) + _src('not in') + _pri('True')\n",
        "    elif n ==  5: return _var(C={6, 7, 8}, D={7, 6, 8}) + _src('==') + _pri('True')\n",
        "    elif n ==  6: return _var(E={4}, F={4, 5}) + _src('!=') + _pri('True')\n",
        "    elif n ==  7: return _var(A={1, 2}) + _src('>=') + _pri('True')\n",
        "    elif n ==  8: return _var(A={1, 2}, B={2}) + _src('> ') + _pri('True')\n",
        "    elif n ==  9: return _var(A={1, 2}, B={2}) + _src('<=') + _pri('True')\n",
        "    elif n == 10: return _var(A={1, 2}, B={2}) + _src('not', '<=') + _pri('True')\n",
        "    elif n == 11: return _var(V=set()) + _src('len', '==') + _pri('True')\n",
        "    elif n == 12: return _var(C={3, 4, 5}, D={5, 6}) + _src('|') + _pri('{3, 4, 5, 6}')\n",
        "    elif n == 13: return _var(C={3, 4, 5}, D={5, 6}) + _src('&') + _pri('{5}')\n",
        "    elif n == 14: return _var(E={7}, F={8, 9}) + _src('&', '==', 'set()') + _pri('True')\n",
        "    elif n == 15: return _var(E={7}, F={8, 9}) + _src('-', '!=') + _pri('True')\n",
        "    elif n == 16: return _var(A={2, 3, 5, 7})\n",
        "    elif n == 17: return _var(A={0, 2})\n",
        "    elif n == 18: return _typ(A=set, B=set) + _src('|', '&') + _pri('True', 'True')\n",
        "    elif n == 19: return _typ(A=set, B=set) + _src('|', '-', '==') + _pri('True')\n",
        "    elif n == 20: return _typ(A=set, B=set) + _src('|', '-', '!=') + _pri('True')\n",
        "    else: return -1"
      ]
    },
    {
      "cell_type": "markdown",
      "metadata": {
        "id": "nheZsg7j220P"
      },
      "source": []
    },
    {
      "cell_type": "markdown",
      "metadata": {
        "id": "2nj3eRk6Q1_n"
      },
      "source": [
        "# Práticas"
      ]
    },
    {
      "cell_type": "markdown",
      "metadata": {
        "id": "pIJJTR85fuWD"
      },
      "source": [
        "## Prática 1"
      ]
    },
    {
      "cell_type": "markdown",
      "metadata": {
        "id": "oglGzfYvQhV6"
      },
      "source": [
        "Declare explicitamente o conjunto $A$ com base na definição formal $A = \\{ x : x \\in \\mathbf{N}$ e $x < 5 \\}$."
      ]
    },
    {
      "cell_type": "code",
      "execution_count": 67,
      "metadata": {
        "id": "0n0wf32_QhV9"
      },
      "outputs": [],
      "source": [
        "A = {0, 1, 2, 3, 4}"
      ]
    },
    {
      "cell_type": "code",
      "execution_count": 68,
      "metadata": {
        "colab": {
          "base_uri": "https://localhost:8080/",
          "height": 62
        },
        "id": "-lpiUZikQhWH",
        "outputId": "36de86cd-2e8e-44bc-eca1-c0e6ef64afb1"
      },
      "outputs": [
        {
          "data": {
            "text/html": [
              "<p style=\"background-color: LawnGreen; padding: 8px 8px 8px 8px;\"><b>Correto!</b></p>"
            ],
            "text/plain": [
              "<IPython.core.display.HTML object>"
            ]
          },
          "metadata": {},
          "output_type": "display_data"
        }
      ],
      "source": [
        "validar(1)"
      ]
    },
    {
      "cell_type": "markdown",
      "metadata": {
        "id": "TyFQMHQvf3zY"
      },
      "source": [
        "## Prática 2"
      ]
    },
    {
      "cell_type": "markdown",
      "metadata": {
        "id": "GiWgucBqQz7O"
      },
      "source": [
        "Declare explicitamente o conjunto $A$ com base na definição formal $A = \\{ x : x \\in \\mathbf{Z}$ e $x^2 -2 \\le 0 \\}$."
      ]
    },
    {
      "cell_type": "code",
      "execution_count": 5,
      "metadata": {
        "id": "BxAeYwOSQ1Zu"
      },
      "outputs": [],
      "source": [
        "A = {-1, 0, 1}"
      ]
    },
    {
      "cell_type": "code",
      "execution_count": 6,
      "metadata": {
        "colab": {
          "base_uri": "https://localhost:8080/",
          "height": 62
        },
        "id": "pVmNnTTAQ1yQ",
        "outputId": "de233541-46fb-4221-fd05-14c3063911da"
      },
      "outputs": [
        {
          "data": {
            "text/html": [
              "<p style=\"background-color: LawnGreen; padding: 8px 8px 8px 8px;\"><b>Correto!</b></p>"
            ],
            "text/plain": [
              "<IPython.core.display.HTML object>"
            ]
          },
          "metadata": {},
          "output_type": "display_data"
        }
      ],
      "source": [
        "validar(2)"
      ]
    },
    {
      "cell_type": "markdown",
      "metadata": {
        "id": "voRAulH9f95a"
      },
      "source": [
        "## Prática 3"
      ]
    },
    {
      "cell_type": "markdown",
      "metadata": {
        "id": "9pWnRIliQhWP"
      },
      "source": [
        "Defina $B = \\{ 4, 5 \\}$ e mostre o resultado do teste $4 \\in B$."
      ]
    },
    {
      "cell_type": "code",
      "execution_count": 7,
      "metadata": {
        "colab": {
          "base_uri": "https://localhost:8080/"
        },
        "id": "_AjYoA3KQhWR",
        "outputId": "f38f04e2-e569-4dbd-f201-f5cc087ea6f2"
      },
      "outputs": [
        {
          "name": "stdout",
          "output_type": "stream",
          "text": [
            "True\n"
          ]
        }
      ],
      "source": [
        "B = {4, 5}\n",
        "\n",
        "print(4 in B)"
      ]
    },
    {
      "cell_type": "code",
      "execution_count": 8,
      "metadata": {
        "colab": {
          "base_uri": "https://localhost:8080/",
          "height": 62
        },
        "id": "i8JjgD4xQhWZ",
        "outputId": "3fcc9832-863b-4ea9-c388-51fbdccd510f"
      },
      "outputs": [
        {
          "data": {
            "text/html": [
              "<p style=\"background-color: LawnGreen; padding: 8px 8px 8px 8px;\"><b>Correto!</b></p>"
            ],
            "text/plain": [
              "<IPython.core.display.HTML object>"
            ]
          },
          "metadata": {},
          "output_type": "display_data"
        }
      ],
      "source": [
        "validar(3)"
      ]
    },
    {
      "cell_type": "markdown",
      "metadata": {
        "id": "RtywZHzHgC13"
      },
      "source": [
        "## Prática 4"
      ]
    },
    {
      "cell_type": "markdown",
      "metadata": {
        "id": "ahLYEpjZQhW_"
      },
      "source": [
        "Defina $B = \\{ 4, 5 \\}$ e mostre o resultado do teste $6 \\not \\in B$."
      ]
    },
    {
      "cell_type": "code",
      "execution_count": 9,
      "metadata": {
        "colab": {
          "base_uri": "https://localhost:8080/"
        },
        "id": "p8MO-Y8HQhXA",
        "outputId": "45970952-6ba1-46cd-cad8-113aeadf2b09"
      },
      "outputs": [
        {
          "name": "stdout",
          "output_type": "stream",
          "text": [
            "True\n"
          ]
        }
      ],
      "source": [
        "B = {4, 5}\n",
        "print(6 not in B)"
      ]
    },
    {
      "cell_type": "code",
      "execution_count": 10,
      "metadata": {
        "colab": {
          "base_uri": "https://localhost:8080/",
          "height": 62
        },
        "id": "t46KlnZuQhXG",
        "outputId": "c5942386-bebc-47cd-d833-1a54ce443d76"
      },
      "outputs": [
        {
          "data": {
            "text/html": [
              "<p style=\"background-color: LawnGreen; padding: 8px 8px 8px 8px;\"><b>Correto!</b></p>"
            ],
            "text/plain": [
              "<IPython.core.display.HTML object>"
            ]
          },
          "metadata": {},
          "output_type": "display_data"
        }
      ],
      "source": [
        "validar(4)"
      ]
    },
    {
      "cell_type": "markdown",
      "metadata": {
        "id": "Q_sVrw-IhyHd"
      },
      "source": [
        "## Prática 5"
      ]
    },
    {
      "cell_type": "markdown",
      "metadata": {
        "id": "L3Wo_gvCQhWv"
      },
      "source": [
        "Defina os conjuntos $C = \\{ 6, 7, 8 \\}$ e $D = \\{ 7, 6, 8 \\}$ e mostre que eles são iguais (usando a comparação adequada)."
      ]
    },
    {
      "cell_type": "code",
      "execution_count": 11,
      "metadata": {
        "colab": {
          "base_uri": "https://localhost:8080/"
        },
        "id": "tXq-tLemQhWx",
        "outputId": "01817118-34da-4780-eaba-2816a67795fb"
      },
      "outputs": [
        {
          "name": "stdout",
          "output_type": "stream",
          "text": [
            "True\n"
          ]
        }
      ],
      "source": [
        "C = {6, 7, 8}\n",
        "D = {7, 6, 8}\n",
        "\n",
        "\n",
        "print(C == D)"
      ]
    },
    {
      "cell_type": "code",
      "execution_count": 12,
      "metadata": {
        "colab": {
          "base_uri": "https://localhost:8080/",
          "height": 62
        },
        "id": "UvWTrUuGQhW4",
        "outputId": "9fd1e0e3-bbe9-4d2d-d31a-fccbf548019e"
      },
      "outputs": [
        {
          "data": {
            "text/html": [
              "<p style=\"background-color: LawnGreen; padding: 8px 8px 8px 8px;\"><b>Correto!</b></p>"
            ],
            "text/plain": [
              "<IPython.core.display.HTML object>"
            ]
          },
          "metadata": {},
          "output_type": "display_data"
        }
      ],
      "source": [
        "validar(5)"
      ]
    },
    {
      "cell_type": "markdown",
      "metadata": {
        "id": "tnfRl_zyiAOJ"
      },
      "source": [
        "## Prática 6"
      ]
    },
    {
      "cell_type": "markdown",
      "metadata": {
        "id": "KfwoGIw2QhXO"
      },
      "source": [
        "Defina os conjuntos $E = \\{ 4 \\}$ e $F = \\{ 4, 5 \\}$ e mostre que eles são desiguais (usando a comparação adequada)."
      ]
    },
    {
      "cell_type": "code",
      "execution_count": 13,
      "metadata": {
        "colab": {
          "base_uri": "https://localhost:8080/"
        },
        "id": "Q1zFJrKoQhXP",
        "outputId": "044ff744-2a65-46c2-99eb-bf254cd3a532"
      },
      "outputs": [
        {
          "name": "stdout",
          "output_type": "stream",
          "text": [
            "True\n"
          ]
        }
      ],
      "source": [
        "E = {4}\n",
        "F = {4, 5}\n",
        "print(E != F)"
      ]
    },
    {
      "cell_type": "code",
      "execution_count": 14,
      "metadata": {
        "colab": {
          "base_uri": "https://localhost:8080/",
          "height": 62
        },
        "id": "TL4wNK6MQhXV",
        "outputId": "67e977ec-fdc5-4746-b5bf-4c92e7687c2b"
      },
      "outputs": [
        {
          "data": {
            "text/html": [
              "<p style=\"background-color: LawnGreen; padding: 8px 8px 8px 8px;\"><b>Correto!</b></p>"
            ],
            "text/plain": [
              "<IPython.core.display.HTML object>"
            ]
          },
          "metadata": {},
          "output_type": "display_data"
        }
      ],
      "source": [
        "validar(6)"
      ]
    },
    {
      "cell_type": "markdown",
      "metadata": {
        "id": "ERUbQEIjjaxH"
      },
      "source": [
        "## Prática 7"
      ]
    },
    {
      "cell_type": "markdown",
      "metadata": {
        "id": "KgCBAclYVLjm"
      },
      "source": [
        "Defina o conjunto $A = \\{ 1, 2 \\}$ e mostre que $A$ contém $A$ (usando a relação de inclusão adequada)."
      ]
    },
    {
      "cell_type": "code",
      "execution_count": 15,
      "metadata": {
        "colab": {
          "base_uri": "https://localhost:8080/"
        },
        "id": "BKysIQddVLjs",
        "outputId": "921abfb9-2f98-44c5-ba7d-752e4465cb16"
      },
      "outputs": [
        {
          "name": "stdout",
          "output_type": "stream",
          "text": [
            "True\n"
          ]
        }
      ],
      "source": [
        "A = {1, 2}\n",
        "\n",
        "print(A >= A)"
      ]
    },
    {
      "cell_type": "code",
      "execution_count": 16,
      "metadata": {
        "colab": {
          "base_uri": "https://localhost:8080/",
          "height": 62
        },
        "id": "0YMMPya_VLj9",
        "outputId": "e5128a68-ed67-42aa-9d55-b271e3b44c4f"
      },
      "outputs": [
        {
          "data": {
            "text/html": [
              "<p style=\"background-color: LawnGreen; padding: 8px 8px 8px 8px;\"><b>Correto!</b></p>"
            ],
            "text/plain": [
              "<IPython.core.display.HTML object>"
            ]
          },
          "metadata": {},
          "output_type": "display_data"
        }
      ],
      "source": [
        "validar(7)"
      ]
    },
    {
      "cell_type": "markdown",
      "metadata": {
        "id": "7DYanSC2mgyD"
      },
      "source": [
        "## Prática 8"
      ]
    },
    {
      "cell_type": "markdown",
      "metadata": {
        "id": "QyfeRxAzVMoA"
      },
      "source": [
        "Defina os conjuntos $A = \\{ 1, 2 \\}$ e $B = \\{ 2 \\}$ e mostre que $A$ contém propriamente $B$ (usando a relação de inclusão adequada)."
      ]
    },
    {
      "cell_type": "code",
      "execution_count": 17,
      "metadata": {
        "colab": {
          "base_uri": "https://localhost:8080/"
        },
        "id": "GYIR7SZ4VMoC",
        "outputId": "caa874a5-b4bd-413e-8ee2-f2d717c0d94e"
      },
      "outputs": [
        {
          "name": "stdout",
          "output_type": "stream",
          "text": [
            "True\n"
          ]
        }
      ],
      "source": [
        "A = {1, 2}\n",
        "B = {2}\n",
        "\n",
        "print(A > B)"
      ]
    },
    {
      "cell_type": "code",
      "execution_count": 18,
      "metadata": {
        "colab": {
          "base_uri": "https://localhost:8080/",
          "height": 62
        },
        "id": "342SY256VMoK",
        "outputId": "bebc2d3b-4c9c-4561-9cee-cf3ef8c68a61"
      },
      "outputs": [
        {
          "data": {
            "text/html": [
              "<p style=\"background-color: LawnGreen; padding: 8px 8px 8px 8px;\"><b>Correto!</b></p>"
            ],
            "text/plain": [
              "<IPython.core.display.HTML object>"
            ]
          },
          "metadata": {},
          "output_type": "display_data"
        }
      ],
      "source": [
        "validar(8)"
      ]
    },
    {
      "cell_type": "markdown",
      "metadata": {
        "id": "op01xBUEorl-"
      },
      "source": [
        "## Prática 9"
      ]
    },
    {
      "cell_type": "markdown",
      "metadata": {
        "id": "hWBMonSkorYv"
      },
      "source": [
        "Defina os conjuntos $A = \\{ 1, 2 \\}$ e $B = \\{ 2 \\}$ e mostre que $B$ está contido em $A$ (usando a relação de inclusão adequada)."
      ]
    },
    {
      "cell_type": "code",
      "execution_count": 19,
      "metadata": {
        "colab": {
          "base_uri": "https://localhost:8080/"
        },
        "id": "DohOzA5Ros3u",
        "outputId": "4a31af0f-96e9-49f6-af9d-cb03d2b3e5ed"
      },
      "outputs": [
        {
          "name": "stdout",
          "output_type": "stream",
          "text": [
            "True\n"
          ]
        }
      ],
      "source": [
        "A = {1, 2}\n",
        "B = {2}\n",
        "\n",
        "print(B <= A)"
      ]
    },
    {
      "cell_type": "code",
      "execution_count": 20,
      "metadata": {
        "colab": {
          "base_uri": "https://localhost:8080/",
          "height": 62
        },
        "id": "nG5GXU_FosuI",
        "outputId": "b5df2383-3307-42f5-a8b9-4547934fae35"
      },
      "outputs": [
        {
          "data": {
            "text/html": [
              "<p style=\"background-color: LawnGreen; padding: 8px 8px 8px 8px;\"><b>Correto!</b></p>"
            ],
            "text/plain": [
              "<IPython.core.display.HTML object>"
            ]
          },
          "metadata": {},
          "output_type": "display_data"
        }
      ],
      "source": [
        "validar(9)"
      ]
    },
    {
      "cell_type": "markdown",
      "metadata": {
        "id": "tcs-c3h7xpjT"
      },
      "source": [
        "## Prática 10"
      ]
    },
    {
      "cell_type": "markdown",
      "metadata": {
        "id": "mGESccLpxpZO"
      },
      "source": [
        "Defina os conjuntos $A = \\{ 1, 2 \\}$ e $B = \\{ 2 \\}$ e mostre que $A$ não é subconjunto de $B$ (usando a relação de inclusão adequada)."
      ]
    },
    {
      "cell_type": "code",
      "execution_count": 21,
      "metadata": {
        "colab": {
          "base_uri": "https://localhost:8080/"
        },
        "id": "ntkNUXLlxrIL",
        "outputId": "1fd5a849-7906-4e2b-d7a7-95a6fb5b20e9"
      },
      "outputs": [
        {
          "name": "stdout",
          "output_type": "stream",
          "text": [
            "True\n"
          ]
        }
      ],
      "source": [
        "A = {1, 2}\n",
        "B = {2}\n",
        "print(not A <= B)"
      ]
    },
    {
      "cell_type": "code",
      "execution_count": 22,
      "metadata": {
        "colab": {
          "base_uri": "https://localhost:8080/",
          "height": 62
        },
        "id": "eTwl3XtlxqeW",
        "outputId": "f4f4d55b-14b7-44a2-ce4a-8c37f1375a6e"
      },
      "outputs": [
        {
          "data": {
            "text/html": [
              "<p style=\"background-color: LawnGreen; padding: 8px 8px 8px 8px;\"><b>Correto!</b></p>"
            ],
            "text/plain": [
              "<IPython.core.display.HTML object>"
            ]
          },
          "metadata": {},
          "output_type": "display_data"
        }
      ],
      "source": [
        "validar(10)"
      ]
    },
    {
      "cell_type": "markdown",
      "metadata": {
        "id": "R1-Jg6v8lBi7"
      },
      "source": [
        "## Prática 11"
      ]
    },
    {
      "cell_type": "markdown",
      "metadata": {
        "id": "2_I5Hxf5lBi9"
      },
      "source": [
        "Crie um conjunto vazio chamado V e mostre que sua cardinalidade é igual a zero (usando a comparação adequada)."
      ]
    },
    {
      "cell_type": "code",
      "execution_count": 23,
      "metadata": {
        "colab": {
          "base_uri": "https://localhost:8080/"
        },
        "id": "6KPf1e2XlBi-",
        "outputId": "fb1fd0e3-1b8c-427f-a16e-85e856cf9477"
      },
      "outputs": [
        {
          "name": "stdout",
          "output_type": "stream",
          "text": [
            "True\n"
          ]
        }
      ],
      "source": [
        "V = set()\n",
        "\n",
        "print(len(V) == 0)"
      ]
    },
    {
      "cell_type": "code",
      "execution_count": 24,
      "metadata": {
        "colab": {
          "base_uri": "https://localhost:8080/",
          "height": 62
        },
        "id": "8LQuM6UllBjA",
        "outputId": "fc66c37d-f923-4eb1-ea39-0a58aa36004c"
      },
      "outputs": [
        {
          "data": {
            "text/html": [
              "<p style=\"background-color: LawnGreen; padding: 8px 8px 8px 8px;\"><b>Correto!</b></p>"
            ],
            "text/plain": [
              "<IPython.core.display.HTML object>"
            ]
          },
          "metadata": {},
          "output_type": "display_data"
        }
      ],
      "source": [
        "validar(11)"
      ]
    },
    {
      "cell_type": "markdown",
      "metadata": {
        "id": "59g2J0Fbk-Nn"
      },
      "source": [
        "## Prática 12"
      ]
    },
    {
      "cell_type": "markdown",
      "metadata": {
        "id": "BASqht2Yk-Nv"
      },
      "source": [
        "Defina os conjuntos $C = \\{ 3, 4, 5 \\}$ e $D = \\{ 5, 6 \\}$ e mostre a união dos mesmos."
      ]
    },
    {
      "cell_type": "code",
      "execution_count": 25,
      "metadata": {
        "colab": {
          "base_uri": "https://localhost:8080/"
        },
        "id": "WhnUiWkxk-Nx",
        "outputId": "6817b867-b513-4bc6-afb5-67832de41e3e"
      },
      "outputs": [
        {
          "name": "stdout",
          "output_type": "stream",
          "text": [
            "{3, 4, 5, 6}\n"
          ]
        }
      ],
      "source": [
        "C = {3, 4, 5}\n",
        "D = {5, 6}\n",
        "\n",
        "print(C | D)"
      ]
    },
    {
      "cell_type": "code",
      "execution_count": 26,
      "metadata": {
        "colab": {
          "base_uri": "https://localhost:8080/",
          "height": 62
        },
        "id": "DEkMWDp2k-Nz",
        "outputId": "bf20deb9-b491-493d-9b25-dc48f259d2a5"
      },
      "outputs": [
        {
          "data": {
            "text/html": [
              "<p style=\"background-color: LawnGreen; padding: 8px 8px 8px 8px;\"><b>Correto!</b></p>"
            ],
            "text/plain": [
              "<IPython.core.display.HTML object>"
            ]
          },
          "metadata": {},
          "output_type": "display_data"
        }
      ],
      "source": [
        "validar(12)"
      ]
    },
    {
      "cell_type": "markdown",
      "metadata": {
        "id": "v8SBktST8SYo"
      },
      "source": [
        "## Prática 13"
      ]
    },
    {
      "cell_type": "markdown",
      "metadata": {
        "id": "GkSguw6zV-_u"
      },
      "source": [
        "Defina os conjuntos $C = \\{ 3, 4, 5 \\}$ e $D = \\{ 5, 6 \\}$ e mostre a interseção dos mesmos."
      ]
    },
    {
      "cell_type": "code",
      "execution_count": 27,
      "metadata": {
        "colab": {
          "base_uri": "https://localhost:8080/"
        },
        "id": "chLXVFlYV_AG",
        "outputId": "15c9dd7f-f702-49cf-f278-3fb23d1033cb"
      },
      "outputs": [
        {
          "name": "stdout",
          "output_type": "stream",
          "text": [
            "{5}\n"
          ]
        }
      ],
      "source": [
        "C = {3, 4, 5}\n",
        "D = {5, 6}\n",
        "\n",
        "print(C & D)"
      ]
    },
    {
      "cell_type": "code",
      "execution_count": 28,
      "metadata": {
        "colab": {
          "base_uri": "https://localhost:8080/",
          "height": 62
        },
        "id": "aizuDbb4V_AM",
        "outputId": "ca3c7719-875b-4cbe-b0a8-494d8752f337"
      },
      "outputs": [
        {
          "data": {
            "text/html": [
              "<p style=\"background-color: LawnGreen; padding: 8px 8px 8px 8px;\"><b>Correto!</b></p>"
            ],
            "text/plain": [
              "<IPython.core.display.HTML object>"
            ]
          },
          "metadata": {},
          "output_type": "display_data"
        }
      ],
      "source": [
        "validar(13)"
      ]
    },
    {
      "cell_type": "markdown",
      "metadata": {
        "id": "k46FKtEc_ocZ"
      },
      "source": [
        "## Prática 14"
      ]
    },
    {
      "cell_type": "markdown",
      "metadata": {
        "id": "dri0rFjP6gxC"
      },
      "source": [
        "Defina os conjuntos $E = \\{ 7 \\}$ e $F = \\{ 8, 9 \\}$ e então mostre que estes são disjuntos (usando a comparação adequada com o conjunto vazio)."
      ]
    },
    {
      "cell_type": "code",
      "execution_count": 29,
      "metadata": {
        "colab": {
          "base_uri": "https://localhost:8080/"
        },
        "id": "5Ttwa5Cl6hxp",
        "outputId": "1b7b5576-cedc-4cec-d5ab-69afbef7c887"
      },
      "outputs": [
        {
          "name": "stdout",
          "output_type": "stream",
          "text": [
            "True\n"
          ]
        }
      ],
      "source": [
        "E = {7}\n",
        "F = {8, 9}\n",
        "\n",
        "print((E & F) == set() )"
      ]
    },
    {
      "cell_type": "code",
      "execution_count": 30,
      "metadata": {
        "colab": {
          "base_uri": "https://localhost:8080/",
          "height": 62
        },
        "id": "4LNi_e566iE5",
        "outputId": "e19b4804-8c9d-4245-ac11-e3c72eb77ce4"
      },
      "outputs": [
        {
          "data": {
            "text/html": [
              "<p style=\"background-color: LawnGreen; padding: 8px 8px 8px 8px;\"><b>Correto!</b></p>"
            ],
            "text/plain": [
              "<IPython.core.display.HTML object>"
            ]
          },
          "metadata": {},
          "output_type": "display_data"
        }
      ],
      "source": [
        "validar(14)"
      ]
    },
    {
      "cell_type": "markdown",
      "metadata": {
        "id": "QQRvElzI9oxQ"
      },
      "source": [
        "## Prática 15"
      ]
    },
    {
      "cell_type": "markdown",
      "metadata": {
        "id": "LPUSSMSc9ohb"
      },
      "source": [
        "Defina os conjuntos $E = \\{ 7 \\}$ e $F = \\{ 8, 9 \\}$ e então mostre que a diferença E - F não é igual a F - E (usando a comparação adequada)."
      ]
    },
    {
      "cell_type": "code",
      "execution_count": 31,
      "metadata": {
        "colab": {
          "base_uri": "https://localhost:8080/"
        },
        "id": "dvNOh0G29pdQ",
        "outputId": "99e3f010-aca0-4b58-9c1f-84415c79ef94"
      },
      "outputs": [
        {
          "name": "stdout",
          "output_type": "stream",
          "text": [
            "True\n"
          ]
        }
      ],
      "source": [
        "E = {7}\n",
        "F = {8, 9}\n",
        "#print(f\"E-F: {(E -F)}\")\n",
        "#print(f\"F-E: {(F - E)}\")\n",
        "print((E - F) != (F - E))"
      ]
    },
    {
      "cell_type": "code",
      "execution_count": 32,
      "metadata": {
        "colab": {
          "base_uri": "https://localhost:8080/",
          "height": 62
        },
        "id": "KTvp6rU_ERzQ",
        "outputId": "54a16e05-335c-47ec-cc9b-5b2ec885b58f"
      },
      "outputs": [
        {
          "data": {
            "text/html": [
              "<p style=\"background-color: LawnGreen; padding: 8px 8px 8px 8px;\"><b>Correto!</b></p>"
            ],
            "text/plain": [
              "<IPython.core.display.HTML object>"
            ]
          },
          "metadata": {},
          "output_type": "display_data"
        }
      ],
      "source": [
        "validar(15)"
      ]
    },
    {
      "cell_type": "markdown",
      "metadata": {
        "id": "6kI0C9gmVF9n"
      },
      "source": [
        "# Exercícios"
      ]
    },
    {
      "cell_type": "markdown",
      "metadata": {
        "id": "ijBtu5z6GFUU"
      },
      "source": [
        "## Exercício 16"
      ]
    },
    {
      "cell_type": "markdown",
      "metadata": {
        "id": "ZPwAPpocGFCy"
      },
      "source": [
        "Declare explicitamente o conjunto $A$ com base na definição formal $A = \\{ x : x \\in \\mathbf{N}$ e $2 \\leq x \\leq 10$ e $x$ é primo $\\}$."
      ]
    },
    {
      "cell_type": "code",
      "execution_count": 33,
      "metadata": {
        "id": "6KdbNADoGFvZ"
      },
      "outputs": [],
      "source": [
        "A = {2,3,5,7}"
      ]
    },
    {
      "cell_type": "code",
      "execution_count": 34,
      "metadata": {
        "colab": {
          "base_uri": "https://localhost:8080/",
          "height": 62
        },
        "id": "O30u-rdJFy1z",
        "outputId": "96423548-54fc-45ec-eefe-76e941fa4064"
      },
      "outputs": [
        {
          "data": {
            "text/html": [
              "<p style=\"background-color: LawnGreen; padding: 8px 8px 8px 8px;\"><b>Correto!</b></p>"
            ],
            "text/plain": [
              "<IPython.core.display.HTML object>"
            ]
          },
          "metadata": {},
          "output_type": "display_data"
        }
      ],
      "source": [
        "validar(16)"
      ]
    },
    {
      "cell_type": "markdown",
      "metadata": {
        "id": "8DI74aEdqSgp"
      },
      "source": [
        "## Exercício 17"
      ]
    },
    {
      "cell_type": "markdown",
      "metadata": {
        "id": "uQqrssW4qSgr"
      },
      "source": [
        "Declare explicitamente o conjunto $A$ com base na definição formal $A = \\{ x : x \\in \\mathbf{R}$ e $x^2 − 2x = 0 \\}$.\n"
      ]
    },
    {
      "cell_type": "code",
      "execution_count": 35,
      "metadata": {
        "id": "Q_hGaa61qSgs"
      },
      "outputs": [],
      "source": [
        "A={0,2}"
      ]
    },
    {
      "cell_type": "code",
      "execution_count": 36,
      "metadata": {
        "colab": {
          "base_uri": "https://localhost:8080/",
          "height": 62
        },
        "id": "F9XHeLVAqSgu",
        "outputId": "db0ced86-32da-481c-a18c-9baa687655ff"
      },
      "outputs": [
        {
          "data": {
            "text/html": [
              "<p style=\"background-color: LawnGreen; padding: 8px 8px 8px 8px;\"><b>Correto!</b></p>"
            ],
            "text/plain": [
              "<IPython.core.display.HTML object>"
            ]
          },
          "metadata": {},
          "output_type": "display_data"
        }
      ],
      "source": [
        "validar(17)"
      ]
    },
    {
      "cell_type": "markdown",
      "metadata": {
        "id": "_oDDbubYqTFP"
      },
      "source": [
        "## Exercício 18"
      ]
    },
    {
      "cell_type": "markdown",
      "metadata": {
        "id": "gfTwX3k2qTFR"
      },
      "source": [
        "Defina dois conjuntos de números inteiros $A$ e $B$ tal que $A \\subseteq B$. Então mostre que vale que $A \\cup B = B$. Mostre ainda, na linha debaixo, que também vale que $A \\cap B = A$."
      ]
    },
    {
      "cell_type": "code",
      "execution_count": 37,
      "metadata": {
        "colab": {
          "base_uri": "https://localhost:8080/"
        },
        "id": "KYgj_hb6qTFR",
        "outputId": "dc0a8e1d-baeb-4418-8a1f-b4d398b9e3c9"
      },
      "outputs": [
        {
          "name": "stdout",
          "output_type": "stream",
          "text": [
            "True\n",
            "True\n"
          ]
        }
      ],
      "source": [
        "A={1,2}\n",
        "B={1,2}\n",
        "print(B==A|B)\n",
        "print(A==A&B)"
      ]
    },
    {
      "cell_type": "code",
      "execution_count": 38,
      "metadata": {
        "colab": {
          "base_uri": "https://localhost:8080/",
          "height": 62
        },
        "id": "Z-RCTDZfqTFS",
        "outputId": "661e879c-9c3f-42eb-8c75-d723583968eb"
      },
      "outputs": [
        {
          "data": {
            "text/html": [
              "<p style=\"background-color: LawnGreen; padding: 8px 8px 8px 8px;\"><b>Correto!</b></p>"
            ],
            "text/plain": [
              "<IPython.core.display.HTML object>"
            ]
          },
          "metadata": {},
          "output_type": "display_data"
        }
      ],
      "source": [
        "validar(18)"
      ]
    },
    {
      "cell_type": "markdown",
      "metadata": {
        "id": "k1Kcq4eGqTdo"
      },
      "source": [
        "## Exercício 19"
      ]
    },
    {
      "cell_type": "markdown",
      "metadata": {
        "id": "7p6WFaIlqTdq"
      },
      "source": [
        "Defina dois conjuntos de números inteiros $A$ e $B$ tal que $(A \\cup B) − B = A$ seja verdade (note que esta igualdade vale apenas para certos conjuntos)."
      ]
    },
    {
      "cell_type": "code",
      "execution_count": 39,
      "metadata": {
        "colab": {
          "base_uri": "https://localhost:8080/"
        },
        "id": "94L8sNshqTdq",
        "outputId": "48afbce0-0ed5-4616-fd79-1542a356310a"
      },
      "outputs": [
        {
          "name": "stdout",
          "output_type": "stream",
          "text": [
            "True\n"
          ]
        }
      ],
      "source": [
        "A={1,2}\n",
        "B={3,4}\n",
        "print((A|B)-B==A)"
      ]
    },
    {
      "cell_type": "code",
      "execution_count": 40,
      "metadata": {
        "colab": {
          "base_uri": "https://localhost:8080/",
          "height": 62
        },
        "id": "P9Zpy6ioqTdr",
        "outputId": "b2e3aafa-7dff-4a8d-dbeb-bac9b6248bc2"
      },
      "outputs": [
        {
          "data": {
            "text/html": [
              "<p style=\"background-color: LawnGreen; padding: 8px 8px 8px 8px;\"><b>Correto!</b></p>"
            ],
            "text/plain": [
              "<IPython.core.display.HTML object>"
            ]
          },
          "metadata": {},
          "output_type": "display_data"
        }
      ],
      "source": [
        "validar(19)"
      ]
    },
    {
      "cell_type": "markdown",
      "metadata": {
        "id": "qbR8PgmZqiQy"
      },
      "source": [
        "## Exercício 20"
      ]
    },
    {
      "cell_type": "markdown",
      "metadata": {
        "id": "wrBakGPxqiQz"
      },
      "source": [
        "Defina dois conjuntos de números inteiros $A$ e $B$ tal que $(A \\cup B) − B \\neq A$ seja verdade (note que esta esta igualdade vale apenas para certos conjuntos)."
      ]
    },
    {
      "cell_type": "code",
      "execution_count": 41,
      "metadata": {
        "colab": {
          "base_uri": "https://localhost:8080/"
        },
        "id": "VqoMM0ooqiQ0",
        "outputId": "f3722103-9c6a-4388-f5a8-0f3bb835d1eb"
      },
      "outputs": [
        {
          "name": "stdout",
          "output_type": "stream",
          "text": [
            "True\n"
          ]
        }
      ],
      "source": [
        "A={1,2}\n",
        "B={2,3}\n",
        "print((A|B)-B != A)"
      ]
    },
    {
      "cell_type": "code",
      "execution_count": 42,
      "metadata": {
        "colab": {
          "base_uri": "https://localhost:8080/",
          "height": 62
        },
        "id": "F6IHZqwpqiQ0",
        "outputId": "91d76219-eec2-4ea9-a772-cc7e1223a353"
      },
      "outputs": [
        {
          "data": {
            "text/html": [
              "<p style=\"background-color: LawnGreen; padding: 8px 8px 8px 8px;\"><b>Correto!</b></p>"
            ],
            "text/plain": [
              "<IPython.core.display.HTML object>"
            ]
          },
          "metadata": {},
          "output_type": "display_data"
        }
      ],
      "source": [
        "validar(20)"
      ]
    }
  ],
  "metadata": {
    "colab": {
      "provenance": []
    },
    "kernelspec": {
      "display_name": "Python 3 (ipykernel)",
      "language": "python",
      "name": "python3"
    },
    "language_info": {
      "codemirror_mode": {
        "name": "ipython",
        "version": 3
      },
      "file_extension": ".py",
      "mimetype": "text/x-python",
      "name": "python",
      "nbconvert_exporter": "python",
      "pygments_lexer": "ipython3",
      "version": "3.10.6"
    }
  },
  "nbformat": 4,
  "nbformat_minor": 0
}
