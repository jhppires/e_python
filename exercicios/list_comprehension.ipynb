{
 "cells": [
  {
   "cell_type": "markdown",
   "metadata": {},
   "source": [
    "# Good pratices for list comprehensions"
   ]
  },
  {
   "cell_type": "code",
   "execution_count": 2,
   "metadata": {},
   "outputs": [
    {
     "name": "stdout",
     "output_type": "stream",
     "text": [
      "\n",
      "        First case: [0, 1, 2, 3, 4, 5, 6, 7, 8, 9]\n",
      "        Second case: [0, 1, 2, 3, 4, 5, 6, 7, 8, 9]\n",
      "    \n"
     ]
    }
   ],
   "source": [
    "values = []\n",
    "for x in range(10):\n",
    "    values.append(x)\n",
    "\n",
    "comprehension_list = [x for x in range(10)]\n",
    "\n",
    "print(f'''\n",
    "        First case: {values}\n",
    "        Second case: {comprehension_list}\n",
    "    ''')"
   ]
  },
  {
   "cell_type": "code",
   "execution_count": 1,
   "metadata": {},
   "outputs": [
    {
     "name": "stdout",
     "output_type": "stream",
     "text": [
      "\n",
      "        First case: [0, 2, 4, 6, 8, 10, 12, 14, 16, 18, 20, 22, 24, 26, 28, 30, 32, 34, 36, 38, 40, 42, 44, 46, 48]\n",
      "        Second case: [0, 2, 4, 6, 8, 10, 12, 14, 16, 18, 20, 22, 24, 26, 28, 30, 32, 34, 36, 38, 40, 42, 44, 46, 48]\n",
      "    \n"
     ]
    }
   ],
   "source": [
    "evens = []\n",
    "for number in range(50):\n",
    "    is_even = number % 2 == 0\n",
    "    if is_even:\n",
    "        evens.append(number)\n",
    "\n",
    "list_comprehension = [number for number in range(50) if number % 2 == 0]\n",
    "\n",
    "print(f'''\n",
    "        First case: {evens}\n",
    "        Second case: {list_comprehension}\n",
    "    ''')\n"
   ]
  },
  {
   "cell_type": "code",
   "execution_count": 13,
   "metadata": {},
   "outputs": [
    {
     "name": "stdout",
     "output_type": "stream",
     "text": [
      "\n",
      "        First case: ['blue', 'yellow']\n",
      "        Second case: ['blue', 'yellow']\n",
      "    \n"
     ]
    }
   ],
   "source": [
    "options = ['red', 'green', 'blue', 'yellow']\n",
    "valid_string = []\n",
    "\n",
    "for string in options:\n",
    "    if len(string) <= 1:\n",
    "        continue\n",
    "    if 'n' in string:\n",
    "        continue    \n",
    "    if 'r' in string:\n",
    "        continue\n",
    "    valid_string.append(string)\n",
    "\n",
    "# It is like a filter with and operator\n",
    "list_comprehension = [string \n",
    "                        for string in options \n",
    "                        if len(string) > 1 \n",
    "                        if 'n' not in string\n",
    "                        if 'r' not in string\n",
    "                    ]\n",
    "\n",
    "print(f'''\n",
    "        First case: {valid_string}\n",
    "        Second case: {list_comprehension}\n",
    "    ''')\n"
   ]
  },
  {
   "cell_type": "code",
   "execution_count": 14,
   "metadata": {},
   "outputs": [
    {
     "name": "stdout",
     "output_type": "stream",
     "text": [
      "\n",
      "        First case: [1, 2, 3, 4, 5, 6, 7, 8, 9]\n",
      "        Second case: [1, 2, 3, 4, 5, 6, 7, 8, 9]\n",
      "    \n"
     ]
    }
   ],
   "source": [
    "matrix = [\n",
    "    [1, 2, 3],\n",
    "    [4, 5, 6],\n",
    "    [7, 8, 9]\n",
    "]\n",
    "flattened = []\n",
    "\n",
    "for row in matrix:\n",
    "    for item in row:\n",
    "        flattened.append(item)\n",
    "\n",
    "list_comprehension = [item for row in matrix for item in row]\n",
    "\n",
    "print(f'''\n",
    "        First case: {flattened}\n",
    "        Second case: {list_comprehension}\n",
    "    ''')\n"
   ]
  },
  {
   "cell_type": "code",
   "execution_count": 15,
   "metadata": {},
   "outputs": [
    {
     "name": "stdout",
     "output_type": "stream",
     "text": [
      "\n",
      "        First case: ['even', 'odd', 'even', 'odd', 'even', 'odd', 'even', 'odd', 'even', 'odd']\n",
      "        Second case: ['even', 'odd', 'even', 'odd', 'even', 'odd', 'even', 'odd', 'even', 'odd']\n",
      "    \n"
     ]
    }
   ],
   "source": [
    "categories = []\n",
    "\n",
    "for number in range(10):\n",
    "    if number % 2 == 0:\n",
    "        categories.append('even')\n",
    "    else:\n",
    "        categories.append('odd')\n",
    "\n",
    "list_comprehension = ['even' if number % 2 == 0 else 'odd' for number in range(10)]\n",
    "\n",
    "print(f'''\n",
    "        First case: {categories}\n",
    "        Second case: {list_comprehension}\n",
    "    ''')"
   ]
  },
  {
   "cell_type": "code",
   "execution_count": 16,
   "metadata": {},
   "outputs": [
    {
     "name": "stdout",
     "output_type": "stream",
     "text": [
      "\n",
      "        First case: [[[0, 1, 2, 3, 4], [0, 1, 2, 3, 4], [0, 1, 2, 3, 4], [0, 1, 2, 3, 4], [0, 1, 2, 3, 4]], [[0, 1, 2, 3, 4], [0, 1, 2, 3, 4], [0, 1, 2, 3, 4], [0, 1, 2, 3, 4], [0, 1, 2, 3, 4]], [[0, 1, 2, 3, 4], [0, 1, 2, 3, 4], [0, 1, 2, 3, 4], [0, 1, 2, 3, 4], [0, 1, 2, 3, 4]], [[0, 1, 2, 3, 4], [0, 1, 2, 3, 4], [0, 1, 2, 3, 4], [0, 1, 2, 3, 4], [0, 1, 2, 3, 4]], [[0, 1, 2, 3, 4], [0, 1, 2, 3, 4], [0, 1, 2, 3, 4], [0, 1, 2, 3, 4], [0, 1, 2, 3, 4]]]\n",
      "        Second case: [[[0, 1, 2, 3, 4], [0, 1, 2, 3, 4], [0, 1, 2, 3, 4], [0, 1, 2, 3, 4], [0, 1, 2, 3, 4]], [[0, 1, 2, 3, 4], [0, 1, 2, 3, 4], [0, 1, 2, 3, 4], [0, 1, 2, 3, 4], [0, 1, 2, 3, 4]], [[0, 1, 2, 3, 4], [0, 1, 2, 3, 4], [0, 1, 2, 3, 4], [0, 1, 2, 3, 4], [0, 1, 2, 3, 4]], [[0, 1, 2, 3, 4], [0, 1, 2, 3, 4], [0, 1, 2, 3, 4], [0, 1, 2, 3, 4], [0, 1, 2, 3, 4]], [[0, 1, 2, 3, 4], [0, 1, 2, 3, 4], [0, 1, 2, 3, 4], [0, 1, 2, 3, 4], [0, 1, 2, 3, 4]]]\n",
      "    \n"
     ]
    }
   ],
   "source": [
    "lst = []\n",
    "for a in range(5):\n",
    "    l1 = []\n",
    "    for b in range(5):\n",
    "        l2 = []\n",
    "        for c in range(5):\n",
    "            l2.append(c)\n",
    "        l1.append(l2)\n",
    "    lst.append(l1)\n",
    "\n",
    "list_comprehension = [[[c for c in range(5)] for _ in range(5)] for _ in range(5)]\n",
    "\n",
    "print(f'''\n",
    "        First case: {lst}\n",
    "        Second case: {list_comprehension}\n",
    "    ''') "
   ]
  },
  {
   "cell_type": "code",
   "execution_count": 17,
   "metadata": {},
   "outputs": [
    {
     "name": "stdout",
     "output_type": "stream",
     "text": [
      "{'a': 1, 'b': 2, 'c': 3}\n"
     ]
    }
   ],
   "source": [
    "pairs = [(\"a\", 1), (\"b\", 2), (\"c\", 3)]\n",
    "my_dict = {k: v for k, v in pairs}\n",
    "\n",
    "print(my_dict)"
   ]
  },
  {
   "cell_type": "code",
   "execution_count": 19,
   "metadata": {},
   "outputs": [
    {
     "name": "stdout",
     "output_type": "stream",
     "text": [
      "\n",
      "        First case: {1, 2, 3}\n",
      "        Second case: {1, 2, 3}\n",
      "    \n"
     ]
    }
   ],
   "source": [
    "# remove duplicates\n",
    "duplicates = [1, 1, 2, 2, 3, 3]\n",
    "\n",
    "unique = (set(duplicates))\n",
    "# or\n",
    "unique_2 = {x for x in duplicates} # set comprehension\n",
    "\n",
    "print(f'''\n",
    "        First case: {unique}\n",
    "        Second case: {unique_2}\n",
    "    ''')"
   ]
  },
  {
   "cell_type": "code",
   "execution_count": 24,
   "metadata": {},
   "outputs": [
    {
     "name": "stdout",
     "output_type": "stream",
     "text": [
      "328350\n"
     ]
    }
   ],
   "source": [
    "# sum([x**2 for x in range(100)]) This iterates over the range(100) and squares each number, then sums the squares. Do not use this approach for large ranges, as it will be slow and consume a lot of memory. \n",
    "# Instead, use the formula for the sum of squares, which is n(n+1)(2n+1)/6, where n is the number of elements in the range. \n",
    "# But the problem is this generates all values and stores it\n",
    "\n",
    "sum_of_squares = sum(x**2 for x in range(100)) # This is equal to yield or generator expression, it does not store all values\n",
    "\n",
    "print(sum_of_squares)"
   ]
  }
 ],
 "metadata": {
  "kernelspec": {
   "display_name": "Python 3",
   "language": "python",
   "name": "python3"
  },
  "language_info": {
   "codemirror_mode": {
    "name": "ipython",
    "version": 3
   },
   "file_extension": ".py",
   "mimetype": "text/x-python",
   "name": "python",
   "nbconvert_exporter": "python",
   "pygments_lexer": "ipython3",
   "version": "3.10.6"
  }
 },
 "nbformat": 4,
 "nbformat_minor": 2
}
